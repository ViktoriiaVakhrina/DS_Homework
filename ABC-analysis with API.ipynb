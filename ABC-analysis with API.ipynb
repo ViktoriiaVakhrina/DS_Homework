{
 "cells": [
  {
   "cell_type": "markdown",
   "metadata": {},
   "source": [
    "ABC-аналіз\n",
    "1. Відсортувати у порядку спадання\n",
    "2. Загальна сума обороту\n",
    "3. %від суми (cumsum)\n",
    "4. >20% - A, 20-80% -> B, 95% -> C\n"
   ]
  },
  {
   "cell_type": "code",
   "execution_count": 7,
   "metadata": {},
   "outputs": [
    {
     "data": {
      "text/html": [
       "<div>\n",
       "<style scoped>\n",
       "    .dataframe tbody tr th:only-of-type {\n",
       "        vertical-align: middle;\n",
       "    }\n",
       "\n",
       "    .dataframe tbody tr th {\n",
       "        vertical-align: top;\n",
       "    }\n",
       "\n",
       "    .dataframe thead th {\n",
       "        text-align: right;\n",
       "    }\n",
       "</style>\n",
       "<table border=\"1\" class=\"dataframe\">\n",
       "  <thead>\n",
       "    <tr style=\"text-align: right;\">\n",
       "      <th></th>\n",
       "      <th>Клієнт</th>\n",
       "      <th>Продажі</th>\n",
       "      <th>Сума продаж</th>\n",
       "      <th>Процент</th>\n",
       "      <th>Категорія</th>\n",
       "    </tr>\n",
       "  </thead>\n",
       "  <tbody>\n",
       "    <tr>\n",
       "      <th>1</th>\n",
       "      <td>Клієнт 10</td>\n",
       "      <td>541.922500</td>\n",
       "      <td>541.922500</td>\n",
       "      <td>1.540184</td>\n",
       "      <td>A</td>\n",
       "    </tr>\n",
       "    <tr>\n",
       "      <th>2</th>\n",
       "      <td>Клієнт 100</td>\n",
       "      <td>56.889167</td>\n",
       "      <td>598.811667</td>\n",
       "      <td>1.701868</td>\n",
       "      <td>A</td>\n",
       "    </tr>\n",
       "    <tr>\n",
       "      <th>3</th>\n",
       "      <td>Клієнт 101</td>\n",
       "      <td>56.268333</td>\n",
       "      <td>655.080000</td>\n",
       "      <td>1.861786</td>\n",
       "      <td>A</td>\n",
       "    </tr>\n",
       "    <tr>\n",
       "      <th>4</th>\n",
       "      <td>Клієнт 102</td>\n",
       "      <td>54.719167</td>\n",
       "      <td>709.799167</td>\n",
       "      <td>2.017302</td>\n",
       "      <td>A</td>\n",
       "    </tr>\n",
       "    <tr>\n",
       "      <th>5</th>\n",
       "      <td>Клієнт 103</td>\n",
       "      <td>53.763333</td>\n",
       "      <td>763.562500</td>\n",
       "      <td>2.170102</td>\n",
       "      <td>A</td>\n",
       "    </tr>\n",
       "  </tbody>\n",
       "</table>\n",
       "</div>"
      ],
      "text/plain": [
       "       Клієнт     Продажі  Сума продаж   Процент Категорія\n",
       "1   Клієнт 10  541.922500   541.922500  1.540184         A\n",
       "2  Клієнт 100   56.889167   598.811667  1.701868         A\n",
       "3  Клієнт 101   56.268333   655.080000  1.861786         A\n",
       "4  Клієнт 102   54.719167   709.799167  2.017302         A\n",
       "5  Клієнт 103   53.763333   763.562500  2.170102         A"
      ]
     },
     "execution_count": 7,
     "metadata": {},
     "output_type": "execute_result"
    }
   ],
   "source": [
    "import pandas as pd\n",
    "\n",
    "df = pd.read_excel('ABC - Аналіз.xlsx')\n",
    "\n",
    "# Drop first client\n",
    "df.drop(0, axis=0, inplace=True)\n",
    "\n",
    "# Sort\n",
    "df.sort_values('Продажі')\n",
    "\n",
    "# General Sales\n",
    "all_sales = df['Продажі'].sum()\n",
    "\n",
    "\n",
    "\n",
    "# Define % from all sales for each client\n",
    "df['Сума продаж'] = df['Продажі'].cumsum()\n",
    "df['Процент'] = df['Сума продаж']/all_sales*100\n",
    "\n",
    "# Define categories\n",
    "\n",
    "df.loc[df['Процент'] <= 20, 'Категорія'] = 'A'\n",
    "df.loc[(df['Процент']>20)& (df['Процент']<= 80), 'Категорія'] = 'B'\n",
    "df.loc[80 < df['Процент'] , 'Категорія'] = 'C'\n",
    "df.head()"
   ]
  },
  {
   "cell_type": "code",
   "execution_count": 6,
   "metadata": {},
   "outputs": [
    {
     "name": "stdout",
     "output_type": "stream",
     "text": [
      " * Serving Flask app \"__main__\" (lazy loading)\n",
      " * Environment: production\n",
      "   WARNING: This is a development server. Do not use it in a production deployment.\n",
      "   Use a production WSGI server instead.\n",
      " * Debug mode: off\n"
     ]
    },
    {
     "name": "stderr",
     "output_type": "stream",
     "text": [
      " * Running on http://127.0.0.1:5000/ (Press CTRL+C to quit)\n",
      "127.0.0.1 - - [16/Feb/2021 19:54:58] \"\u001b[33mGET / HTTP/1.1\u001b[0m\" 404 -\n",
      "127.0.0.1 - - [16/Feb/2021 19:55:02] \"\u001b[33mGET / HTTP/1.1\u001b[0m\" 404 -\n",
      "127.0.0.1 - - [16/Feb/2021 19:55:02] \"\u001b[37mGET /10 HTTP/1.1\u001b[0m\" 200 -\n"
     ]
    },
    {
     "name": "stdout",
     "output_type": "stream",
     "text": [
      "10\n"
     ]
    }
   ],
   "source": [
    "from flask import Flask\n",
    "app = Flask(__name__)\n",
    "\n",
    "# string - # of client\n",
    "\n",
    "@app.route('/<string>')\n",
    "def category(string):\n",
    "    print(string)\n",
    "    result = df[df['Клієнт']=='Клієнт '+string]['Категорія'].item()\n",
    "    return result\n",
    "    \n",
    "\n",
    "app.run()"
   ]
  },
  {
   "cell_type": "code",
   "execution_count": null,
   "metadata": {},
   "outputs": [],
   "source": []
  },
  {
   "cell_type": "code",
   "execution_count": null,
   "metadata": {},
   "outputs": [],
   "source": []
  }
 ],
 "metadata": {
  "kernelspec": {
   "display_name": "Python 3",
   "language": "python",
   "name": "python3"
  },
  "language_info": {
   "codemirror_mode": {
    "name": "ipython",
    "version": 3
   },
   "file_extension": ".py",
   "mimetype": "text/x-python",
   "name": "python",
   "nbconvert_exporter": "python",
   "pygments_lexer": "ipython3",
   "version": "3.7.6"
  }
 },
 "nbformat": 4,
 "nbformat_minor": 4
}
