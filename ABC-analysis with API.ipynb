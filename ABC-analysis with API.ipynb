{
 "cells": [
  {
   "cell_type": "markdown",
   "metadata": {},
   "source": [
    "ABC-аналіз\n",
    "1. Відсортувати у порядку спадання\n",
    "2. Загальна сума обороту\n",
    "3. %від суми (cumsum)\n",
    "4. >20% - A, 20-80% -> B, <80% -> C\n"
   ]
  },
  {
   "cell_type": "code",
   "execution_count": 17,
   "metadata": {},
   "outputs": [
    {
     "data": {
      "text/html": [
       "<div>\n",
       "<style scoped>\n",
       "    .dataframe tbody tr th:only-of-type {\n",
       "        vertical-align: middle;\n",
       "    }\n",
       "\n",
       "    .dataframe tbody tr th {\n",
       "        vertical-align: top;\n",
       "    }\n",
       "\n",
       "    .dataframe thead th {\n",
       "        text-align: right;\n",
       "    }\n",
       "</style>\n",
       "<table border=\"1\" class=\"dataframe\">\n",
       "  <thead>\n",
       "    <tr style=\"text-align: right;\">\n",
       "      <th></th>\n",
       "      <th>Клієнт</th>\n",
       "      <th>Продажі</th>\n",
       "      <th>Сума продаж</th>\n",
       "      <th>Процент</th>\n",
       "      <th>Категорія</th>\n",
       "    </tr>\n",
       "  </thead>\n",
       "  <tbody>\n",
       "    <tr>\n",
       "      <th>111</th>\n",
       "      <td>Клієнт 2</td>\n",
       "      <td>4784.777500</td>\n",
       "      <td>4784.777500</td>\n",
       "      <td>13.598696</td>\n",
       "      <td>A</td>\n",
       "    </tr>\n",
       "    <tr>\n",
       "      <th>175</th>\n",
       "      <td>Клієнт 3</td>\n",
       "      <td>3521.777500</td>\n",
       "      <td>8306.555000</td>\n",
       "      <td>23.607852</td>\n",
       "      <td>B</td>\n",
       "    </tr>\n",
       "    <tr>\n",
       "      <th>186</th>\n",
       "      <td>Клієнт 4</td>\n",
       "      <td>1143.916667</td>\n",
       "      <td>9450.471667</td>\n",
       "      <td>26.858949</td>\n",
       "      <td>B</td>\n",
       "    </tr>\n",
       "    <tr>\n",
       "      <th>197</th>\n",
       "      <td>Клієнт 5</td>\n",
       "      <td>1107.697500</td>\n",
       "      <td>10558.169167</td>\n",
       "      <td>30.007108</td>\n",
       "      <td>B</td>\n",
       "    </tr>\n",
       "    <tr>\n",
       "      <th>208</th>\n",
       "      <td>Клієнт 6</td>\n",
       "      <td>902.543333</td>\n",
       "      <td>11460.712500</td>\n",
       "      <td>32.572204</td>\n",
       "      <td>B</td>\n",
       "    </tr>\n",
       "  </tbody>\n",
       "</table>\n",
       "</div>"
      ],
      "text/plain": [
       "       Клієнт      Продажі   Сума продаж    Процент Категорія\n",
       "111  Клієнт 2  4784.777500   4784.777500  13.598696         A\n",
       "175  Клієнт 3  3521.777500   8306.555000  23.607852         B\n",
       "186  Клієнт 4  1143.916667   9450.471667  26.858949         B\n",
       "197  Клієнт 5  1107.697500  10558.169167  30.007108         B\n",
       "208  Клієнт 6   902.543333  11460.712500  32.572204         B"
      ]
     },
     "execution_count": 17,
     "metadata": {},
     "output_type": "execute_result"
    }
   ],
   "source": [
    "import pandas as pd\n",
    "\n",
    "df = pd.read_excel('ABC - Аналіз.xlsx')\n",
    "\n",
    "\n",
    "# Sort\n",
    "df.sort_values(by=['Продажі'], inplace=True, ascending=False)\n",
    "\n",
    "# Drop first client\n",
    "df.drop(0, axis=0, inplace=True)\n",
    "\n",
    "# General Sales\n",
    "all_sales = df['Продажі'].sum()\n",
    "\n",
    "\n",
    "\n",
    "# Define % from all sales for each client\n",
    "df['Сума продаж'] = df['Продажі'].cumsum()\n",
    "df['Процент'] = df['Сума продаж']/all_sales*100\n",
    "\n",
    "# Define categories\n",
    "\n",
    "df.loc[df['Процент'] <= 20, 'Категорія'] = 'A'\n",
    "df.loc[(df['Процент']>20)& (df['Процент']<= 80), 'Категорія'] = 'B'\n",
    "df.loc[80 < df['Процент'] , 'Категорія'] = 'C'\n",
    "df.head()"
   ]
  },
  {
   "cell_type": "code",
   "execution_count": 4,
   "metadata": {},
   "outputs": [
    {
     "name": "stdout",
     "output_type": "stream",
     "text": [
      " * Serving Flask app \"__main__\" (lazy loading)\n",
      " * Environment: production\n",
      "   WARNING: This is a development server. Do not use it in a production deployment.\n",
      "   Use a production WSGI server instead.\n",
      " * Debug mode: off\n"
     ]
    },
    {
     "name": "stderr",
     "output_type": "stream",
     "text": [
      " * Running on http://127.0.0.1:5000/ (Press CTRL+C to quit)\n",
      "127.0.0.1 - - [16/Feb/2021 20:03:59] \"\u001b[37mGET / HTTP/1.1\u001b[0m\" 200 -\n"
     ]
    }
   ],
   "source": [
    "from flask import Flask\n",
    "app = Flask(__name__)\n",
    "\n",
    "# string - # of client\n",
    "@app.route('/')\n",
    "def home():\n",
    "    return 'Hello:) input # of client in address page after \"/\" to get client category'\n",
    "@app.route('/<string>')\n",
    "def category(string):\n",
    "    print(string)\n",
    "    result = df[df['Клієнт']=='Клієнт '+string]['Категорія'].item()\n",
    "    return result\n",
    "    \n",
    "\n",
    "app.run()"
   ]
  },
  {
   "cell_type": "code",
   "execution_count": null,
   "metadata": {},
   "outputs": [],
   "source": []
  },
  {
   "cell_type": "code",
   "execution_count": null,
   "metadata": {},
   "outputs": [],
   "source": []
  }
 ],
 "metadata": {
  "kernelspec": {
   "display_name": "Python 3",
   "language": "python",
   "name": "python3"
  },
  "language_info": {
   "codemirror_mode": {
    "name": "ipython",
    "version": 3
   },
   "file_extension": ".py",
   "mimetype": "text/x-python",
   "name": "python",
   "nbconvert_exporter": "python",
   "pygments_lexer": "ipython3",
   "version": "3.7.6"
  }
 },
 "nbformat": 4,
 "nbformat_minor": 4
}
