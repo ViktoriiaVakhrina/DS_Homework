{
 "cells": [
  {
   "cell_type": "markdown",
   "metadata": {},
   "source": [
    "## 1. Markdown cells\n",
    "* Hi! Its MainAcademy?  \n",
    "<li>All HTML tabs are supported!</li>\n",
    "* Моя сторінка на лінкедін [Лінкедін](https://www.linkedin.com/)\n",
    "\n",
    "# This is Heading1\n",
    "\n",
    "## This is Heading2\n",
    "\n",
    "Some grey colored text:\n",
    "> This is where we can bring quotes and present them nicely\n",
    "\n",
    "And this is a paragraph about something vety important. Even math:\n",
    "$$y_{sub}=\\sum(x_{sub})$$\n",
    "\n",
    "Or Python code example:\n",
    "```\n",
    "import math\n",
    "def foo():\n",
    "    return \"foo\"\n",
    "```\n",
    "\n",
    "\n"
   ]
  },
  {
   "cell_type": "markdown",
   "metadata": {},
   "source": [
    "Here is the sample mean:\n",
    "$$\\overline{y}=\\frac{1}{n}\\sum_{i=1}^{n}y_{i}$$\n",
    "\n",
    "Here is sample variance:\n",
    "\n",
    "$$\\sigma^{2}=\\frac{\\sum_{i=1}^{n}(y_{i}-\\overline{y})^{2}}{n-1}$$\n",
    "\n",
    "Here is sample standard deviation:\n",
    "\n",
    "$$\\sigma=\\sqrt{\\frac{\\sum_{i=1}^{n}(y_{i}-\\overline{y})^2}{n-1}} $$"
   ]
  },
  {
   "cell_type": "markdown",
   "metadata": {},
   "source": [
    "### Задача\n",
    "Користувач вводить дві букви. Визначити, на яких місцях алфавіту вони стоять, і скільки між ними знаходиться букв. Використати ord, chr і https://uk.wikipedia.org/wiki/ASCII"
   ]
  },
  {
   "cell_type": "code",
   "execution_count": 33,
   "metadata": {},
   "outputs": [
    {
     "name": "stdout",
     "output_type": "stream",
     "text": [
      "Введіть першу літеру: ї\n",
      "Введіть другу літеру: є\n",
      "Номер літери 1 у алфавіті:  14\n",
      "Номер літери 2 у алфавіті:  9\n",
      "Кількість літер між введеними літерами:  4\n"
     ]
    }
   ],
   "source": [
    "def check_alphabet(letter1, letter2):\n",
    "    \"\"\"\n",
    "    Визначає, чи належать літери до одного алфавіту (англійський, український або російський)\n",
    "    Параметри:\n",
    "    letter1, letter2 - літери, які перевіраємо; тип string\n",
    "    \n",
    "    Повертає:\n",
    "    string - \"English\", \"Ukrainian\", \"Russian\" aбо\n",
    "    None - якщо літери належать до різних алфавітів\n",
    "    \n",
    "    \"\"\"\n",
    "    order1 = ord(letter1)\n",
    "    order2 = ord(letter2)\n",
    "    \n",
    "    if 97<=order1<=122 and 97<=order2<=122:\n",
    "        return(\"English\")\n",
    "    \n",
    "    elif letter1 in (\"ґєії\") and 1072<=order2<=1103 and letter2 not in \"ъёыэ\" or \\\n",
    "         letter2 in (\"ґєії\") and 1072<=order1<=1103 and letter1 not in \"ъёыэ\" or \\\n",
    "         letter1 in (\"ґєії\") and letter2 in (\"ґєії\"):\n",
    "        \n",
    "        return (\"Ukrainian\")\n",
    "    \n",
    "    elif 1072<=order1<=1103 and 1072<=order2<=1103:\n",
    "        return (\"Russian\")\n",
    "    \n",
    "    else:\n",
    "        return None\n",
    "    \n",
    "# Введення літер:\n",
    "letter1 = input(\"Введіть першу літеру: \").lower() # Переводимо введені літери в нижній регістр\n",
    "letter2 = input(\"Введіть другу літеру: \").lower()\n",
    "\n",
    "# Перевіряємо, чи було введено 1 літеру:\n",
    "if len(letter1) !=1 or len(letter2) != 1:\n",
    "    print(\"Введіть одну літеру!\")\n",
    "\n",
    "# Перевіряємо, чи належать літери до різних алфавітів:    \n",
    "elif check_alphabet(letter1, letter2) == None:\n",
    "    print(\"Введено літери з різних алфавітів або інші символи!\")\n",
    "    \n",
    "    \n",
    "# Якщо літери  - з одного алфавіту, визначаємо їх номер у відповідному алфавіті:\n",
    "else: \n",
    "    if check_alphabet(letter1, letter2)==\"English\":\n",
    "        order1 = ord(letter1) - ord('a')\n",
    "        order2 = ord(letter2) - ord('a')\n",
    "    elif check_alphabet(letter1, letter2)==\"Russian\":\n",
    "        order1 = ord(letter1) - ord('а') # літера \"а\" введена російською/українською\n",
    "        order2 = ord(letter2) - ord('а')\n",
    "    elif check_alphabet(letter1, letter2)==\"Ukrainian\":\n",
    "        \n",
    "        # вводимо український алфавіт, оскільки специфічні укр літери у ASCII розташовані не по порядку\n",
    "        alphabet='абвгґдеєжзиіїйклмнопрстуфхцчшщьюя' \n",
    "        \n",
    "        # пошук літери у стрічці\n",
    "        order1 = alphabet.find(letter1)+1 \n",
    "        order2 = alphabet.find(letter2)+1\n",
    "        \n",
    "    # Виводимо результат на екран:   \n",
    "    print(\"Номер літери 1 у алфавіті: \", order1 + 1)\n",
    "    print(\"Номер літери 2 у алфавіті: \", order2 + 1)\n",
    "    if order1 == order2:\n",
    "        print(\"Введено одну й ту саму літеру двічі\")\n",
    "    else:\n",
    "        print(\"Кількість літер між введеними літерами: \", abs(order1-order2)-1)\n",
    "\n"
   ]
  },
  {
   "cell_type": "code",
   "execution_count": null,
   "metadata": {},
   "outputs": [],
   "source": []
  }
 ],
 "metadata": {
  "kernelspec": {
   "display_name": "Python 3",
   "language": "python",
   "name": "python3"
  },
  "language_info": {
   "codemirror_mode": {
    "name": "ipython",
    "version": 3
   },
   "file_extension": ".py",
   "mimetype": "text/x-python",
   "name": "python",
   "nbconvert_exporter": "python",
   "pygments_lexer": "ipython3",
   "version": "3.7.6"
  }
 },
 "nbformat": 4,
 "nbformat_minor": 4
}
