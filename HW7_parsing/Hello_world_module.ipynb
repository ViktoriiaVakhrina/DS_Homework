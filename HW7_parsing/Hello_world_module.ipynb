{
 "cells": [
  {
   "cell_type": "markdown",
   "metadata": {},
   "source": [
    "Завдання 3   \n",
    "Написати скріпт, який зчитує стрічку, записує її в файл з назвою \"my_module.py\".   \n",
    "Даний модуль потрібно потім імпортувати:   \n",
    "\"import my_module\""
   ]
  },
  {
   "cell_type": "code",
   "execution_count": 1,
   "metadata": {},
   "outputs": [
    {
     "name": "stdout",
     "output_type": "stream",
     "text": [
      "Введіть команду:print('Hello, world!')\n"
     ]
    }
   ],
   "source": [
    "command = input('Введіть команду:')    # Зчитування команди\n",
    " \n",
    "f = open('my_module.py', 'w')          # Відкривання файлу на перезапис\n",
    "f.write('if __name__ == \"my_module\":') # запис у файл стрічки, що дозволить виконати файл одразу після імпортування\n",
    "f.write('    '+command)                # запис у файл команди\n",
    "f.close()                              # Закриття файлу "
   ]
  },
  {
   "cell_type": "code",
   "execution_count": 2,
   "metadata": {},
   "outputs": [
    {
     "name": "stdout",
     "output_type": "stream",
     "text": [
      "Hello, world!\n"
     ]
    }
   ],
   "source": [
    "import my_module    # імпортування файлу; для повторного спрацювання необхідно перезапустити ядро\n",
    "\n",
    "\n",
    "# Щоб не перезапускати ядро:\n",
    "# import imp, my_module\n",
    "# imp.reload(my_module)"
   ]
  }
 ],
 "metadata": {
  "kernelspec": {
   "display_name": "Python 3",
   "language": "python",
   "name": "python3"
  },
  "language_info": {
   "codemirror_mode": {
    "name": "ipython",
    "version": 3
   },
   "file_extension": ".py",
   "mimetype": "text/x-python",
   "name": "python",
   "nbconvert_exporter": "python",
   "pygments_lexer": "ipython3",
   "version": "3.7.6"
  }
 },
 "nbformat": 4,
 "nbformat_minor": 4
}
