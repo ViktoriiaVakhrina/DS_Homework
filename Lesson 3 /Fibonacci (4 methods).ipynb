{
 "cells": [
  {
   "cell_type": "code",
   "execution_count": 11,
   "metadata": {},
   "outputs": [
    {
     "name": "stdout",
     "output_type": "stream",
     "text": [
      "Input number for Fibonacci sequence: 5\n",
      "1\n",
      "1\n",
      "2\n",
      "3\n",
      "5\n"
     ]
    }
   ],
   "source": [
    "# Fibonacci sequence using recursion:\n",
    "\n",
    "def my_fib(a):\n",
    "    if a == 0:\n",
    "        return 1\n",
    "    elif a == 1:\n",
    "        return 1\n",
    "    else:\n",
    "        a = my_fib(a-1) + my_fib(a-2)\n",
    "        return a\n",
    "number = int(input(\"Input number for Fibonacci sequence: \"))   \n",
    "for i in range(number):\n",
    "    print(my_fib(i))\n"
   ]
  },
  {
   "cell_type": "code",
   "execution_count": 24,
   "metadata": {},
   "outputs": [
    {
     "name": "stdout",
     "output_type": "stream",
     "text": [
      "1\n",
      "2\n",
      "3\n",
      "5\n",
      "8\n",
      "13\n",
      "21\n",
      "34\n"
     ]
    }
   ],
   "source": [
    "# Fibonacci with 'for' cycle\n",
    "\n",
    "a=1\n",
    "b=1\n",
    "for _ in range(8):\n",
    "    a,b = b, a+b\n",
    "    print(a)"
   ]
  },
  {
   "cell_type": "code",
   "execution_count": 81,
   "metadata": {},
   "outputs": [
    {
     "name": "stdout",
     "output_type": "stream",
     "text": [
      "0\n",
      "1\n",
      "1\n",
      "2\n",
      "3\n",
      "5\n",
      "8\n",
      "13\n"
     ]
    }
   ],
   "source": [
    "# Fibonacci with matrix (using lists):\n",
    "# To find Fibonacci number (n) we need to get the upper right element of  matrix (0 1) to the power n\n",
    "#                                                                                (1 1)\n",
    "\n",
    "def matrix_mult(matrix1, matrix2):\n",
    "    result=[[0, 0],[0, 0]]\n",
    "    '''\n",
    "    Finds product of 2 square matrices\n",
    "    \n",
    "    matrix1, matrix2 = 2-d list of integers, must represent square matrix\n",
    "    returns: 2-d list\n",
    "    '''        \n",
    "    for i in range(len(matrix1)): # to go through rows \n",
    "        for j in range(len(matrix2[0])): # to go through columns\n",
    "            for l in range(len(matrix1)): # to find sum of appropriate products\n",
    "                result[i][j]=result[i][j]+matrix1[i][l]*matrix2[l][j]\n",
    "    return result\n",
    "                \n",
    "\n",
    "    \n",
    "matrix1 = [[0, 1], [1, 1]]\n",
    "matrix2 = matrix1\n",
    "number = int(input(\"Enter number: \"))\n",
    "while number!=0:\n",
    "    print(matrix2[0][0])\n",
    "    result = matrix_mult(matrix1, matrix2)\n",
    "    matrix2 = result\n",
    "    number = number - 1\n",
    "    "
   ]
  },
  {
   "cell_type": "markdown",
   "metadata": {},
   "source": [
    "To find n-th element of Fibonacci row we can use the following formula:\n",
    "$$F_{n}=[\\frac{(\\frac{1+\\sqrt{5}}{2})^{n}}{\\sqrt{5}}]$$\n",
    "where \\[  \\] means rounding to the nearest integer"
   ]
  },
  {
   "cell_type": "code",
   "execution_count": 94,
   "metadata": {},
   "outputs": [
    {
     "name": "stdout",
     "output_type": "stream",
     "text": [
      "Enter number: 5\n",
      "1\n",
      "1\n",
      "2\n",
      "3\n",
      "5\n"
     ]
    }
   ],
   "source": [
    "# Fibonacci with formula:\n",
    "import math\n",
    "\n",
    "number = int(input('Enter number: '))\n",
    "\n",
    "for n in range(number+1):\n",
    "    a = math.pow(((1+math.sqrt(5))/2), n) # \n",
    "    print(round(a/math.sqrt(5)))"
   ]
  },
  {
   "cell_type": "code",
   "execution_count": null,
   "metadata": {},
   "outputs": [],
   "source": []
  }
 ],
 "metadata": {
  "kernelspec": {
   "display_name": "Python 3",
   "language": "python",
   "name": "python3"
  },
  "language_info": {
   "codemirror_mode": {
    "name": "ipython",
    "version": 3
   },
   "file_extension": ".py",
   "mimetype": "text/x-python",
   "name": "python",
   "nbconvert_exporter": "python",
   "pygments_lexer": "ipython3",
   "version": "3.7.6"
  }
 },
 "nbformat": 4,
 "nbformat_minor": 4
}
