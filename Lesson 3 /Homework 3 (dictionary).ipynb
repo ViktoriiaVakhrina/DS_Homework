{
 "cells": [
  {
   "cell_type": "markdown",
   "metadata": {},
   "source": [
    "Завдання 2  \n",
    "\tНапишіть програму \"Митниця\". Алгоритм її роботи наступний: програма на вхід получає імена людей, що перетинають кордон.   \n",
    "\tВвід закінчується тоді, коли введено слово \"END\"  \n",
    "\tПри завершені роботи, програма виводить ім’я людини та кількість перетинів кордону. \n",
    "\n",
    "\t\t----------------**********----------------\n",
    "\t\tХто перетинає кордон:\n",
    "\n",
    "\t\t>>>> Ігор\n",
    "\n",
    "\t\tХто перетинає кордон:\n",
    "\n",
    "\t\t>>>> Оля\n",
    "\n",
    "\t\tХто перетинає кордон:\n",
    "\n",
    "\t\t>>>> Ігор\t\t\n",
    "\n",
    "\t\tХто перетинає кордон:\n",
    "\n",
    "\t\t>>>> Ігор\t\t\n",
    "\t\t\n",
    "\t\tХто перетинає кордон:\n",
    "\n",
    "\t\t>>>> Андрій\n",
    "\n",
    "\t\tХто перетинає кордон:\n",
    "\n",
    "\t\t>>>> END"
   ]
  },
  {
   "cell_type": "code",
   "execution_count": 2,
   "metadata": {},
   "outputs": [
    {
     "name": "stdout",
     "output_type": "stream",
     "text": [
      "Хто перетинає кордон:\n",
      ">>>>Vika\n",
      "Хто перетинає кордон:\n",
      ">>>>VIka\n",
      "Хто перетинає кордон:\n",
      ">>>>VIka\n",
      "Хто перетинає кордон:\n",
      ">>>>Ira\n",
      "Хто перетинає кордон:\n",
      ">>>>END\n",
      "Vika - 1\n",
      "VIka - 2\n",
      "VIka - 2\n",
      "Ira - 1\n"
     ]
    }
   ],
   "source": [
    "names_of_travellers = {}\n",
    "while True:\n",
    "    print(\"Хто перетинає кордон:\")\n",
    "    name = input('>>>>')\n",
    "    if name == 'END':\n",
    "        break\n",
    "    elif name in names_of_travellers:\n",
    "        names_of_travellers[name] = 1\n",
    "    else:\n",
    "        names_of_travellers[name]\n",
    "\n",
    "for n in names_of_travellers:\n",
    "    print(n, '-', names_of_travellers.count(n))"
   ]
  }
 ],
 "metadata": {
  "kernelspec": {
   "display_name": "Python 3",
   "language": "python",
   "name": "python3"
  },
  "language_info": {
   "codemirror_mode": {
    "name": "ipython",
    "version": 3
   },
   "file_extension": ".py",
   "mimetype": "text/x-python",
   "name": "python",
   "nbconvert_exporter": "python",
   "pygments_lexer": "ipython3",
   "version": "3.7.6"
  }
 },
 "nbformat": 4,
 "nbformat_minor": 4
}
