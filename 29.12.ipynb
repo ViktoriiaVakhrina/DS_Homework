{
 "cells": [
  {
   "cell_type": "markdown",
   "metadata": {},
   "source": [
    "Сайт https://nashformat.ua/catalog/top-30-knyzhok-2017-roku\n",
    "\n",
    "1. Витягти з сайту: назва, автор, рік видання, рейтинг і т.д.\n",
    "2. Одну таблицю в бд\n",
    "3. вивести назви всіх книжок користувач вводить книгу (цифру)- зберегти її палітурку у jpeg"
   ]
  },
  {
   "cell_type": "code",
   "execution_count": 135,
   "metadata": {},
   "outputs": [
    {
     "name": "stdout",
     "output_type": "stream",
     "text": [
      "<div class=\"product-list_content\"> <div class=\"product-list_title\"> <h5><a class=\"h3\" data-product=\"41879\" href=\"products/kazka-pro-dobromola-920560\" title=\"Казка про Добромола\">Казка про Добромола</a></h5> </div> <h4 class=\"product-list_author h4\">\n",
      "                    Олександр Турчинов                </h4> <div class=\"product_rating_js\"> <span class=\"rating_starOff\"><span class=\"rating_starOn\" style=\"width:84.6px;\"></span></span> <span data-language=\"product_rating\">Рейтинг: 4.7</span> <span>(8 відгуків)</span> </div> <div class=\"row product-list_features\"> <span class=\"color_dark-gray span_small\">Рік видання: 2020</span> <span class=\"color_dark-gray span_small\">Палітурка: тверда</span> <span class=\"color_green\">\n",
      "                                                    Книга в наявності\n",
      "                                            </span> </div> <div class=\"row product-list_desc\">\n",
      "                 Книга для свідомих та розумних читачів, які не голосують за казкових персонажів. \n",
      " ТЕМАТИКА \n",
      " Сучасна українська література, гумор, сатира, антиутопія. \n",
      " ПРО КНИЖКУ ОЛЕКСАНДРА ТУРЧИНОВА «КАЗКА ПРО ДОБРОМОЛА» \n",
      "  «Казка про Добромола» – це веселий і водночас сумний\n",
      "            </div> <form action=\"cart\" class=\"fn-variants\"> <select class=\"fn-variant form-control c-select hidden-xs-up\" name=\"variant\"> <option data-cprice=\"130\" data-price=\"130\" data-product=\"41879\" data-sku=\"920560\" data-stock=\"364\" value=\"54749\">Казка про Добромола</option> </select> <div class=\"row product-list_bot\"> <div class=\"card-price-block\"> <div class=\"row\"> <span class=\"cost-count\">130</span> <span class=\"cost-currency\">грн</span> </div> </div> <div class=\"btn-block m-l-1 display-ib\"> <div class=\"add-btn display-ib\"> <div class=\"form-group display-ib\"> <button class=\"fn-is_stock btn btn_buy variant_54749\" data-add-text=\"Купити\" data-language=\"product_add_cart\" data-remove-text=\"У кошику\">\n",
      "            Купити        </button> </div> </div> </div> <div class=\"m-l-2\"> <div class=\"book_types\"> <a class=\"book_types__item active\" href=\"products/kazka-pro-dobromola-920560\"> <div class=\"book_types__img book_types__img-paper\"></div> <div class=\"book_types__desc\"> <span>Паперова</span> </div> </a> </div> </div> </div> </form> </div>\n",
      "Олександр Турчинов\n"
     ]
    }
   ],
   "source": [
    "# 1. Витягти з сайту: назва, автор, рік видання, рейтинг і т.д.\n",
    "\n",
    "\n",
    "# + в наявності/не в наявності \n",
    "\n",
    "\n",
    "import requests\n",
    "from bs4 import BeautifulSoup\n",
    "import datetime\n",
    "\n",
    "\n",
    "\n",
    "all_books = {}\n",
    "i = 1 #key in dict\n",
    "\n",
    "r = requests.get('https://nashformat.ua/catalog/top-30-knyzhok-2017-roku')\n",
    "soup = BeautifulSoup(r.text, 'html.parser')\n",
    "all_info = soup.find_all('div', class_='product-list_content')\n",
    "print(all_info[0])\n",
    "for el in all_info:\n",
    "    title = el.find('a', class_='h3').get('title')\n",
    "    book_link = el.find('a', class_='h3').get('href')\n",
    "    author = el.find('h4').text.lstrip('/n').lstrip().rstrip()\n",
    "    rating_tag = el.find('div', class_='product_rating_js').find_all('span')[2].text\n",
    "    rating = float(rating_tag.lstrip('Рейтинг: '))\n",
    "    publication_year_tag = el.find('span', class_='color_dark-gray').text\n",
    "    publication_year = int(publication_year_tag.lstrip('Рік видання: '))\n",
    "    price = float(el.find('span', class_ = 'cost-count').text)\n",
    "    all_books[i] = {'title':title, 'link':book_link, 'author':author, 'rating':rating,\n",
    "                    'publ_year':publication_year, 'price':price\n",
    "                   }\n",
    "    i += 1\n",
    "print(all_books[1]['author'])"
   ]
  },
  {
   "cell_type": "code",
   "execution_count": 103,
   "metadata": {},
   "outputs": [],
   "source": [
    "# 2. Одну таблицю в бд\n",
    "\n",
    "import sqlite3\n",
    "\n",
    "\n",
    "conn = sqlite3.connect('Books.db')\n",
    "curs = conn.cursor()\n",
    "\n",
    "sql_text = '''\n",
    "    CREATE TABLE Book (\n",
    "        name TEXT NOT NULL,\n",
    "        author TEXT NOT NULL,\n",
    "        publ_year INTEGER NOT NULL,\n",
    "        rating REAL,\n",
    "        price REAL,\n",
    "        link TEXT NOT NULL\n",
    "    )\n",
    "'''\n",
    "\n",
    "curs.execute(sql_text)\n",
    "conn.close()"
   ]
  },
  {
   "cell_type": "code",
   "execution_count": 104,
   "metadata": {},
   "outputs": [],
   "source": [
    "conn = sqlite3.connect('Books.db')\n",
    "curs = conn.cursor()\n",
    "\n",
    "sql_insert = '''\n",
    "    INSERT INTO Book (name, author, publ_year, rating, price, link) VALUES (?,?,?,?,?,?)\n",
    "'''\n",
    "\n",
    "for el in all_books.items():\n",
    "    current_el = el[1]\n",
    "    curs.execute(sql_insert, (current_el['title'],\n",
    "                              current_el['author'],\n",
    "                               current_el['publ_year'],\n",
    "                             current_el['rating'],\n",
    "                             current_el['price'],\n",
    "                             current_el['link']))\n",
    "conn.commit()\n",
    "\n",
    "conn.close()"
   ]
  },
  {
   "cell_type": "code",
   "execution_count": 168,
   "metadata": {},
   "outputs": [
    {
     "name": "stdout",
     "output_type": "stream",
     "text": [
      "1 Казка про Добромола Олександр Турчинов\n",
      "2 Справа Василя Стуса. Збірка документів з архіву колишнього КДБ УРСР Вахтанг Кіпіані\n",
      "3 Сліди на дорозі Валерій Ананьєв\n",
      "4 Амадока Софія Андрухович\n",
      "5 Купи собі той довбаний букет: та інші способи зібратися докупи від тієї, кому вдалось Тара Шустер\n",
      "6 Нація овочів? Як інформація змінює мислення і поведінку українців Оксана Мороз\n",
      "7 Людина розумна Ювал Ной Харарі\n",
      "8 Про що я говорю, коли говорю про біг Харукі Муракамі\n",
      "9 21 урок для 21 століття Ювал Ной Харарі\n",
      "10 Було-стало. Нові зміни в правописі Олександр Авраменко\n",
      "11 Зваблення їжею: 70 рецептів, які захочеться готувати Євген Клопотенко\n",
      "12 Доця Тамара Горіха Зерня\n",
      "13 Місто дівчат Елізабет Ґілберт\n",
      "14 Пиши, скорочуй. Як створити дієвий текст Людмила Саричева, Максим Ільяхов\n",
      "15 Характерник Василь Шкляр\n",
      "16 Війна за реальність. Як перемагати у світі фейків, правд і спільнот Дмитро Кулеба\n",
      "17 7 звичок надзвичайно ефективних людей Стівен Р. Кові\n",
      "18 Ворошиловград. Дике поле. Захищай своє Сергій Жадан\n",
      "19 Психологія впливу. Перевидання Роберт Чалдині\n",
      "20 Їж, Пий, Худни Наталія Самойленко\n",
      "21 Homo Deus. Людина божественна. За лаштунками майбутнього Ювал Ной Харарі\n",
      "22 Тисяча доріг. Спогади жінки учасниці підпільно-визвольної боротьби Марія Савчин\n",
      "23 Фелікс Австрія Софія Андрухович\n",
      "24 Scrum. Навчись робити вдвічі більше за менший час Джефф Сазерленд\n",
      "25 Людина в пошуках справжнього сенсу Віктор Франкл\n",
      "26 Колгосп тварин Джордж Орвелл\n",
      "Введіть обрану книгу: 1\n",
      "\n",
      "Інформація про обрану книгу:\n",
      " ('Казка про Добромола', 'Олександр Турчинов', 2020, 4.7, 130.0, 'products/kazka-pro-dobromola-920560')\n"
     ]
    }
   ],
   "source": [
    "#3. вивести назви всіх книжок користувач вводить книгу (цифру)- зберегти її палітурку у jpeg\n",
    "\n",
    "conn = sqlite3.connect('Books.db')\n",
    "curs = conn.cursor()\n",
    "\n",
    "sql_get_books = '''\n",
    "    SELECT name, author FROM Book\n",
    "'''\n",
    "\n",
    "books_and_authors = curs.execute(sql_get_books).fetchall()\n",
    "\n",
    "i = 1\n",
    "for el in books_and_authors:\n",
    "    print(i, el[0], el[1])\n",
    "    i += 1\n",
    "\n",
    "selected_book = int(input('Введіть обрану книгу: '))\n",
    "print()\n",
    "\n",
    "book_to_search = books_and_authors[selected_book-1][0]\n",
    "\n",
    "sql_find_book = '''\n",
    " SELECT * FROM Book\n",
    " WHERE name = (?)\n",
    "'''\n",
    "\n",
    "found_book = curs.execute(sql_find_book, (book_to_search,)).fetchall()[0]\n",
    "print('Інформація про обрану книгу:\\n', found_book)\n",
    "conn.close()\n",
    "link = 'https://nashformat.ua/'+found_book[5]\n",
    "\n",
    "\n",
    "r = requests.get(link)\n",
    "soup = BeautifulSoup(r.text, 'html.parser')\n",
    "\n",
    "img = soup.find_all('a', class_=\"gallery fn-zoom btn-block img-block\")[0].get('href')\n",
    "r = requests.get(img)\n",
    "img_binary = r.content\n",
    "with open ('image.jpeg', 'wb') as f:\n",
    "     f.write(img_binary)"
   ]
  },
  {
   "cell_type": "code",
   "execution_count": 151,
   "metadata": {},
   "outputs": [
    {
     "data": {
      "text/plain": [
       "bs4.element.ResultSet"
      ]
     },
     "execution_count": 151,
     "metadata": {},
     "output_type": "execute_result"
    }
   ],
   "source": [
    "type(img)"
   ]
  },
  {
   "cell_type": "code",
   "execution_count": null,
   "metadata": {},
   "outputs": [],
   "source": []
  }
 ],
 "metadata": {
  "kernelspec": {
   "display_name": "Python 3",
   "language": "python",
   "name": "python3"
  },
  "language_info": {
   "codemirror_mode": {
    "name": "ipython",
    "version": 3
   },
   "file_extension": ".py",
   "mimetype": "text/x-python",
   "name": "python",
   "nbconvert_exporter": "python",
   "pygments_lexer": "ipython3",
   "version": "3.7.6"
  }
 },
 "nbformat": 4,
 "nbformat_minor": 4
}
