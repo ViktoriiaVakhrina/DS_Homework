{
 "cells": [
  {
   "cell_type": "markdown",
   "metadata": {},
   "source": [
    "Завантажте файл \"Homework-06-base.txt\" із мого репозиторію.\n",
    "У файлі мітиться інформація про товарні позиції деякого інтернет-магазину, а саме:\n",
    "\tАриткул - унікальний номер товарної позиції\n",
    "\tНайменування - найменування товару\n",
    "\tНаявність - чи є товарна позиція в даний момент\n",
    "\tЦіна - вартість товарної позиції\n",
    "\n",
    "Завдання 1\n",
    "\tВам потрібно отримати таку інформацію:\n",
    "\t\t- кількість товарних позицій у файлі\n",
    "\t\t- кількість товарних позицій, що в наявності\n",
    "    \t\t- ціна та назва найдорожчої товарної позиції \n",
    "\n",
    "Завдання 2\n",
    "\tІнформацію із файлу запишіть у словник, де ключем буде артикул, а значення для ключа - список, що містить три елементи: Найменування, Наявність, Ціна\n",
    "\tДаний словник серіалізуйте за допомогою бібліотеки:\n",
    "\t\t- pickle\n",
    "\t\t- json\n",
    "\tЗбережіть ці файли.\n",
    "\n",
    "Завдання 3\n",
    "\tВідкрийте серіалізований файл (що ви зробили вище). \n",
    "\tНапишіть програму, що запитує артикул товарної позиції, а повертає стрічку json\n",
    "\tПриклад програми:\n",
    "\n",
    "\t\t----------------**********----------------\n",
    "\t\tВведіть артикул запчастини:\n",
    "\n",
    "\t\t>>>>3963\n",
    "\t\t{'part' : '3963', 'name' : 'Очиститель двигателя (спрей) Liqui Moly 0.4л',  'status' : 'В наличии', 'price' :'277 грн'}\n",
    "\n",
    "Завдання 4\n",
    "\tЗнайдіть всі товари, у яких аромат яблука, та виведіть їх. \n",
    "\t(Врахуйте що слово \"яблоко\" може відмінятися в залежності від речення) "
   ]
  },
  {
   "cell_type": "code",
   "execution_count": 5,
   "metadata": {},
   "outputs": [
    {
     "name": "stdout",
     "output_type": "stream",
     "text": [
      "Загальна кількість товарів: 426 \n",
      "\n",
      "Товарів у наявності: 353 \n",
      "\n",
      "Ціна та назва найдорожчої товарної позиції: Масло Liqui Moly TOP TEC 4600 5W-30 5л 1623.0 \n",
      "\n"
     ]
    }
   ],
   "source": [
    "# Відкриваємо файл\n",
    "\n",
    "f = open('parts.txt', 'r')\n",
    "\n",
    "all_parts={} # словник, де буде зберігатися інформація про усі товари\n",
    "\n",
    "\n",
    "# Зчитуємо рядки по черзі, розбиваємо по символу '|', отриманий список додаємо поелементно у словник\n",
    "\n",
    "for line in f:\n",
    "    line_list = line.split('|')\n",
    "    if line_list[0] != 'Артикул': # пропускаємо перший рядок - заголовок\n",
    "        all_parts[line_list[0]]=[line_list[1], line_list[2], float(line_list[3].rstrip(' грн'+'\\n'))]\n",
    "\n",
    "\n",
    "print('Загальна кількість товарів:', len(all_parts), '\\n') # кількість позицій у словнику = кількість товарів\n",
    "\n",
    "\n",
    "#Вивести кількість товарів, що є в наявності:\n",
    "\n",
    "in_stock = sum([1 for element in all_parts.items() for column in element if column[1]=='В наличии'])\n",
    "print('Товарів у наявності:', in_stock , '\\n')\n",
    "\n",
    "\n",
    "\n",
    "# Ціна та назва найдорожчої товарної позиції \n",
    "most_expensive = max(all_parts.items(), key =lambda  element: element[1][2]) # повертає кортеж: (артикул, [відомості про товар])\n",
    "print('Ціна та назва найдорожчої товарної позиції:', most_expensive[1][0], most_expensive[1][2], '\\n')\n",
    "\n",
    "# Інший варіант: повертає артикул\n",
    "# most_expensive = max(all_parts, key = lambda element:all_parts.get(element)[2])\n",
    "\n",
    "\n",
    "\n",
    "\n",
    "f.close()"
   ]
  },
  {
   "cell_type": "markdown",
   "metadata": {},
   "source": [
    "Завдання 2 Інформацію із файлу запишіть у словник, де ключем буде артикул, а значення для ключа - список, що містить три елементи: Найменування, Наявність, Ціна Даний словник серіалізуйте за допомогою бібліотеки:\n",
    "    - pickle\n",
    "    - json\n",
    "Збережіть ці файли."
   ]
  },
  {
   "cell_type": "code",
   "execution_count": 6,
   "metadata": {},
   "outputs": [],
   "source": [
    "# Сериалізація за допомогою pickle:\n",
    "\n",
    "import pickle\n",
    "\n",
    "\n",
    "with open('db_parts.pickle', 'wb') as f:\n",
    "    pickle.dump(all_parts, f)\n",
    "    \n",
    "\n",
    "# Сериалізація за допомогою json:\n",
    "\n",
    "import json\n",
    "\n",
    "with open('db_parts2.json', 'w') as f: \n",
    "    json.dump(all_parts, f)"
   ]
  },
  {
   "cell_type": "markdown",
   "metadata": {},
   "source": [
    "Завдання 3 Відкрийте серіалізований файл (що ви зробили вище). Напишіть програму, що запитує артикул товарної позиції, а повертає стрічку json Приклад програми:\n",
    "    ----------------**********----------------\n",
    "    Введіть артикул запчастини:\n",
    "\n",
    "    >>>>3963\n",
    "    {'part' : '3963', 'name' : 'Очиститель двигателя (спрей) Liqui Moly 0.4л',  'status' : 'В наличии', 'price' :'277 грн'}"
   ]
  },
  {
   "cell_type": "code",
   "execution_count": 7,
   "metadata": {},
   "outputs": [
    {
     "name": "stdout",
     "output_type": "stream",
     "text": [
      "Введіть артикул: 3963\n",
      "{\"part\": \"3963\", \"name\": \"Очиститель двигателя (спрей) Liqui Moly 0.4л\", \"status\": \"В наличии\", \"price\": 277.0}\n"
     ]
    }
   ],
   "source": [
    "import json\n",
    "\n",
    "prod_keys = ('part', 'name', 'status', 'price')  # ключі для json\n",
    "\n",
    "product_id = input('Введіть артикул: ')\n",
    "\n",
    "with open('db_parts2.json', 'r') as f:\n",
    "    elements = json.loads(f.read())       # зчитуємо json файл\n",
    "    for i in elements:                    # перебираємо ключі (=артикули), зчитані з файлу\n",
    "        if i == product_id:             # якщо артикул = введеному\n",
    "            prod = [i]                   # створюємо список, що складається з артикулу та інформації про товар\n",
    "            prod.extend(elements[i])\n",
    "            searched_product={prod_keys[j]: prod[j] for j in range(4)}        # створюємо словник з вказаними ключами\n",
    "            break\n",
    "print(json.dumps(searched_product, ensure_ascii = False))                     # виводимо json - стрічку"
   ]
  },
  {
   "cell_type": "markdown",
   "metadata": {},
   "source": [
    "Завдання 4   \n",
    "\tЗнайдіть всі товари, у яких аромат яблука, та виведіть їх.    \n",
    "\t(Врахуйте що слово \"яблоко\" може відмінятися в залежності від речення) "
   ]
  },
  {
   "cell_type": "code",
   "execution_count": 14,
   "metadata": {},
   "outputs": [
    {
     "name": "stdout",
     "output_type": "stream",
     "text": [
      "7611 ['Омыватель стекла летний (концентрат) яблоко 0.25л Liqui Moly', 'В наличии', 196.0]\n",
      "36001 ['Омыватель стекла летний аромат Яблока 1л (концентрат) Liqui Moly', 'В наличии', 73.0]\n",
      "8820 ['Омыватель стекла летний аромат Яблока 2л Liqui Moly', 'В наличии', 85.0]\n",
      "AFAM-007 ['Освежитель воздуха Areon Mon Classic аромат яблока', 'Нет в наличии', 17.0]\n",
      "AFA-019 ['Освежитель воздуха гелевый Areon аромат яблока', 'В наличии', 35.0]\n",
      "F07AP ['Освежитель воздуха ёлка (ароматизатор) Zollex аромат яблока', 'Нет в наличии', 10.0]\n"
     ]
    }
   ],
   "source": [
    "import re\n",
    "\n",
    "with open('db_parts2.json', 'r') as f:            # відкриваємо файл для читання\n",
    "    all_parts_from_file = json.loads(f.read())    # зчитуємо файл\n",
    "    for el in all_parts_from_file:\n",
    "        if all_parts_from_file[el][0].lower().find('яблок') != -1:    # all_parts_from_file[el][0] - назва товару; якщо =-1 - не знайдено частину стрічки\n",
    "            print(el, all_parts_from_file[el])\n"
   ]
  }
 ],
 "metadata": {
  "kernelspec": {
   "display_name": "Python 3",
   "language": "python",
   "name": "python3"
  },
  "language_info": {
   "codemirror_mode": {
    "name": "ipython",
    "version": 3
   },
   "file_extension": ".py",
   "mimetype": "text/x-python",
   "name": "python",
   "nbconvert_exporter": "python",
   "pygments_lexer": "ipython3",
   "version": "3.7.6"
  }
 },
 "nbformat": 4,
 "nbformat_minor": 4
}
