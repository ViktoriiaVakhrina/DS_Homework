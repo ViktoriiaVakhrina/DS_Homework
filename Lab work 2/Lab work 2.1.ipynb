{
 "cells": [
  {
   "cell_type": "markdown",
   "metadata": {},
   "source": [
    "___\n",
    "\n",
    "<a href='https://mainacademy.ua/'> <img src='https://mainacademy.ua/wp-content/uploads/2019/03/logo-main.png' alt = 'Хмм, щось з інтернетом'/></a>\n",
    "___\n",
    "\n",
    "# Module 2: Basic Python"
   ]
  },
  {
   "cell_type": "markdown",
   "metadata": {},
   "source": [
    "## Lab work 2.1\n",
    "\n"
   ]
  },
  {
   "cell_type": "markdown",
   "metadata": {},
   "source": [
    "#### Мета: \n",
    "\n",
    "* навчитися працювати із основними типами та структурами даних в Python;\n",
    "* ознайомитися із базовими алгоритмами;"
   ]
  },
  {
   "cell_type": "markdown",
   "metadata": {},
   "source": [
    "#### Завдання 1"
   ]
  },
  {
   "cell_type": "markdown",
   "metadata": {},
   "source": [
    "Обчислити площу трикутника, коли відома сторона та проведена висота до неї"
   ]
  },
  {
   "cell_type": "code",
   "execution_count": null,
   "metadata": {},
   "outputs": [],
   "source": [
    "a = float(input('Введіть сторону трикутнука: '))    # Сторона трикутника\n",
    "h = float(input('Введіть висоту, проведену до сторони: '))\n",
    "\n",
    "S = (a * h) / 2  # Формула для розрахунку площі трикутника за відомою стороною та висотою, проведеною до неї\n",
    "\n"
   ]
  },
  {
   "cell_type": "markdown",
   "metadata": {},
   "source": [
    "#### Завдання 2"
   ]
  },
  {
   "cell_type": "markdown",
   "metadata": {},
   "source": [
    "Дано трицифрове число. Виведіть окремо кожну цифру числа та суми цифр число\n",
    "\n",
    "Реалізуйте завдання двома способами (використовуючи стрічки та оператори `%`, `//`)"
   ]
  },
  {
   "cell_type": "code",
   "execution_count": 3,
   "metadata": {},
   "outputs": [
    {
     "name": "stdout",
     "output_type": "stream",
     "text": [
      "Введіть трицифрове число: 456\n",
      "4\n",
      "5\n",
      "6\n",
      "Сумма цифр введеного числа: 15\n"
     ]
    }
   ],
   "source": [
    "# Спосіб №1: використовуємо стрічки\n",
    "\n",
    "N = input('Введіть трицифрове число: ') # дане число\n",
    "sum_of_numbers = 0                                       # змінна для збереження суми\n",
    "for number in N:\n",
    "    print(number)\n",
    "    s += int(number)\n",
    "print('Сумма цифр введеного числа:', s)\n",
    "\n",
    "\n"
   ]
  },
  {
   "cell_type": "code",
   "execution_count": 4,
   "metadata": {},
   "outputs": [
    {
     "name": "stdout",
     "output_type": "stream",
     "text": [
      "456\n",
      "4\n",
      "5\n",
      "6\n",
      "Сума цифр: 15\n"
     ]
    }
   ],
   "source": [
    "# Спосіб №2: використовуємо оператори %, //\n",
    "N = int(input())      # дане число\n",
    "sum_of_numbers = (N // 100) + (N // 10 % 10) + (N % 10)\n",
    "print(N//100)   # Виводимо першу цифру\n",
    "print(N//10%10) # Виводимо другу цифру\n",
    "print(N%10)     # Виводимо третю цифру\n",
    "print('Сума цифр:', s)\n"
   ]
  },
  {
   "cell_type": "markdown",
   "metadata": {},
   "source": [
    "#### Завдання 3"
   ]
  },
  {
   "cell_type": "markdown",
   "metadata": {},
   "source": [
    "Дано речення (стрічка). \n",
    "* Розбийте речення по словах і помістіть їх у список. \n",
    "* Виведіть кількість слів у речені.\n",
    "* Утворіть нове речення, що складається з першого та останнього слова із початкового речення."
   ]
  },
  {
   "cell_type": "code",
   "execution_count": 14,
   "metadata": {},
   "outputs": [],
   "source": [
    "sentence = 'My favourite tutor in academy is Ihor'"
   ]
  },
  {
   "cell_type": "code",
   "execution_count": 17,
   "metadata": {},
   "outputs": [],
   "source": [
    "list_from_sentence = sentence.split()   # Розбиваємо речення по словах, отримуємо список"
   ]
  },
  {
   "cell_type": "code",
   "execution_count": 21,
   "metadata": {},
   "outputs": [
    {
     "name": "stdout",
     "output_type": "stream",
     "text": [
      "7\n"
     ]
    }
   ],
   "source": [
    "print(len(list_from_sentence))         # Кількість слів у реченні = кількості елементів у списку"
   ]
  },
  {
   "cell_type": "code",
   "execution_count": 20,
   "metadata": {},
   "outputs": [
    {
     "data": {
      "text/plain": [
       "'My Ihor'"
      ]
     },
     "execution_count": 20,
     "metadata": {},
     "output_type": "execute_result"
    }
   ],
   "source": [
    "new_sentence=list_from_sentence[0]+' '+list_from_sentence[-1] # нове речення, що складається з першого та останнього слова із початкового речення\n",
    "new_sentence"
   ]
  },
  {
   "cell_type": "markdown",
   "metadata": {},
   "source": [
    "#### Завдання 4"
   ]
  },
  {
   "cell_type": "markdown",
   "metadata": {},
   "source": [
    "Перевірте, чи справджується формула: $$ sin^2x + cos^2x = 1$$\n",
    "\n",
    "Напишіть код, що реалізує цю формулу. Нагадую, що тригонометричні функції приймають аргументи в радіанній мірі"
   ]
  },
  {
   "cell_type": "code",
   "execution_count": 5,
   "metadata": {},
   "outputs": [
    {
     "name": "stdout",
     "output_type": "stream",
     "text": [
      "Введіть х(у градусах): 60\n",
      "1.0\n"
     ]
    }
   ],
   "source": [
    "import math\n",
    "\n",
    "x = int(input('Введіть х (у градусах): '))       \n",
    "\n",
    "x_rad=math.radians(x)  # переводимо градуси у радіани\n",
    "\n",
    "print(math.sin(x_rad)**2+math.cos(x_rad)**2)   # виводимо результат обчислень за формулою\n"
   ]
  },
  {
   "cell_type": "markdown",
   "metadata": {},
   "source": [
    "#### Завдання 5"
   ]
  },
  {
   "cell_type": "markdown",
   "metadata": {},
   "source": [
    "Напишіть програму для обчислення коренів квадратного рівняння.\n",
    "\n",
    "Нагадую, що `n`-го степеня має `n` коренів. (Корені можуть бути комплексні)"
   ]
  },
  {
   "cell_type": "code",
   "execution_count": 8,
   "metadata": {},
   "outputs": [
    {
     "name": "stdout",
     "output_type": "stream",
     "text": [
      "Введіть а: -1\n",
      "Введіть b: 120\n",
      "Введіть c: 4\n",
      "x1 = -0.033324079214537505  x2 = 120.03332407921454\n"
     ]
    }
   ],
   "source": [
    "import cmath\n",
    "\n",
    "# Введення коефіцієнтів:\n",
    "try:\n",
    "    a = float(input('Введіть а: '))   \n",
    "    b = float(input('Введіть b: '))\n",
    "    c = float(input('Введіть c: '))\n",
    "\n",
    "    D = ((-b) ** 2) - 4 * a * c   # обчислюємо дискримінант\n",
    "\n",
    "\n",
    "# застосовуємо формули для знаходження коренів рівняння в залежності від значення дискримінанту:\n",
    "    if D > 0:\n",
    "        x1 = (-b + (D ** 0.5)) / (2 * a)\n",
    "        x2 = (-b - (D ** 0.5)) / (2 * a)\n",
    "    elif D == 0:\n",
    "        x1= x2 = (-b) / (2 * a)\n",
    "    else:\n",
    "        x1 = (-b + cmath.sqrt(D)) / (2 * a)  # для від'ємних значень дискримінанта використовуємо функцію з клмплексними числами\n",
    "        x2 = (-b - cmath.sqrt(D)) / (2 * a)\n",
    "    print('x1 =', x1,' x2 =', x2)\n",
    "\n",
    "except:\n",
    "    print('Введіть числа!')\n"
   ]
  },
  {
   "cell_type": "markdown",
   "metadata": {},
   "source": [
    "#### Завдання 6"
   ]
  },
  {
   "cell_type": "markdown",
   "metadata": {},
   "source": [
    "Напишіть програму, що виводить речення: <i>\"Діаметр планети `Planet` дорівнює` Diament`\"</i>, \n",
    "\n",
    "де `Planet` та `Diament` вводить користувач"
   ]
  },
  {
   "cell_type": "code",
   "execution_count": 35,
   "metadata": {},
   "outputs": [
    {
     "name": "stdout",
     "output_type": "stream",
     "text": [
      "Enter name of planet: sfssf\n",
      "Enter diameter: 245\n",
      "Діаметр планети sfssf дорівнює 245\n"
     ]
    }
   ],
   "source": [
    "planet = input(\"Enter name of planet: \")\n",
    "diameter = input(\"Enter diameter: \")\n",
    "\n",
    "print(\"Діаметр планети\", planet,  \"дорівнює\", diameter)"
   ]
  }
 ],
 "metadata": {
  "kernelspec": {
   "display_name": "Python 3",
   "language": "python",
   "name": "python3"
  },
  "language_info": {
   "codemirror_mode": {
    "name": "ipython",
    "version": 3
   },
   "file_extension": ".py",
   "mimetype": "text/x-python",
   "name": "python",
   "nbconvert_exporter": "python",
   "pygments_lexer": "ipython3",
   "version": "3.7.6"
  }
 },
 "nbformat": 4,
 "nbformat_minor": 2
}
