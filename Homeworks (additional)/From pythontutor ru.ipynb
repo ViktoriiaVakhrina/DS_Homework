{
 "cells": [
  {
   "cell_type": "markdown",
   "metadata": {},
   "source": [
    "Условие   \n",
    "Яша плавал в бассейне размером N × M метров и устал. В этот момент он обнаружил, что находится на расстоянии x метров от одного из длинных бортиков (не обязательно от ближайшего) и y метров от одного из коротких бортиков. Какое минимальное расстояние должен проплыть Яша, чтобы выбраться из бассейна на бортик? Программа получает на вход числа N, M, x, y. Программа должна вывести число метров, которое нужно проплыть Яше до бортика."
   ]
  },
  {
   "cell_type": "code",
   "execution_count": 5,
   "metadata": {},
   "outputs": [
    {
     "name": "stdout",
     "output_type": "stream",
     "text": [
      "n: 23\n",
      "m: 52\n",
      "x: 8\n",
      "y: 43\n",
      "52 23\n",
      "8\n"
     ]
    }
   ],
   "source": [
    "n = int (input('n: ')) \n",
    "m = int (input('m: '))\n",
    "x = int (input('x: '))\n",
    "y = int (input('y: '))\n",
    "\n",
    "# let's make n long side of pool:\n",
    "if n < m:\n",
    "    n, m = m, n #if n is short side - change places with m\n",
    "    print(n, m)\n",
    "\n",
    "# determine which distance is less: x(y) or m-x(m-y); save that as x, y\n",
    "if  n/2 < y:\n",
    "    y = n-y\n",
    "if m/2 < x:\n",
    "    x = m - x\n",
    "\n",
    "if x < y:\n",
    "    print(x)\n",
    "else:\n",
    "    print(y)\n",
    "\n"
   ]
  },
  {
   "cell_type": "markdown",
   "metadata": {},
   "source": [
    "Длина Московской кольцевой автомобильной дороги —109 километров. Байкер Вася стартует с нулевого километра МКАД и едет со скоростью v\n",
    "километров в час. На какой отметке он остановится через t\n",
    " часов?\n",
    "\n",
    "Программа получает на вход значение v\n",
    " и t\n",
    ". Если v>0\n",
    ", то Вася движется в положительном направлении по МКАД, если же значение v<0\n",
    ", то в отрицательном.\n",
    "\n",
    "Программа должна вывести целое число от 0 до 108 — номер отметки, на которой остановится Вася."
   ]
  },
  {
   "cell_type": "code",
   "execution_count": null,
   "metadata": {},
   "outputs": [],
   "source": [
    "v = int(input())\n",
    "t = int(inpit())\n",
    "'''\n",
    "remainder is always positive\n",
    "15 % 4 = (-4) + 1(remainder) -> 15%4==1\n",
    "'''\n",
    "print(v*t%109) # if v is negative, pay attention to the rule: remainder should always be positive! "
   ]
  },
  {
   "cell_type": "code",
   "execution_count": 8,
   "metadata": {},
   "outputs": [
    {
     "data": {
      "text/plain": [
       "35"
      ]
     },
     "execution_count": 8,
     "metadata": {},
     "output_type": "execute_result"
    }
   ],
   "source": [
    "155%60"
   ]
  },
  {
   "cell_type": "markdown",
   "metadata": {},
   "source": [
    "Формула для нахождения суммы чисел от 1 до N:\n",
    "s = (N * (N+1)) // 2"
   ]
  }
 ],
 "metadata": {
  "kernelspec": {
   "display_name": "Python 3",
   "language": "python",
   "name": "python3"
  },
  "language_info": {
   "codemirror_mode": {
    "name": "ipython",
    "version": 3
   },
   "file_extension": ".py",
   "mimetype": "text/x-python",
   "name": "python",
   "nbconvert_exporter": "python",
   "pygments_lexer": "ipython3",
   "version": "3.7.6"
  }
 },
 "nbformat": 4,
 "nbformat_minor": 4
}
