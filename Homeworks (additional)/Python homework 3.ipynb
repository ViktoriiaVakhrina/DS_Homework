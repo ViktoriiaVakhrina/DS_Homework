{
 "cells": [
  {
   "cell_type": "markdown",
   "metadata": {},
   "source": [
    "Завдання 1   \n",
    "    Дано ціле число. Якщо воно додатнє, то помножити його на 2; в іншому випадку не змінювати його.\n",
    "    Вивести кінцеве значення."
   ]
  },
  {
   "cell_type": "code",
   "execution_count": 1,
   "metadata": {
    "scrolled": true
   },
   "outputs": [
    {
     "name": "stdout",
     "output_type": "stream",
     "text": [
      "Enter number: 3\n",
      "6\n"
     ]
    }
   ],
   "source": [
    "a = int(input(\"Enter number: \"))\n",
    "if a > 0:\n",
    "    a = a * 2\n",
    "print(a)"
   ]
  },
  {
   "cell_type": "markdown",
   "metadata": {},
   "source": [
    "Завдання 2   \n",
    "    Дано два цілих числа. Якщо вони рівні, то присвоїти цим змінним нулі;\n",
    "    в іншому випадку  - кожній змінній присвоїти суму цих значень."
   ]
  },
  {
   "cell_type": "code",
   "execution_count": 5,
   "metadata": {
    "scrolled": true
   },
   "outputs": [
    {
     "name": "stdout",
     "output_type": "stream",
     "text": [
      "Enter first number: 4\n",
      "Enter second number: 4\n",
      "Result:  0 0\n"
     ]
    }
   ],
   "source": [
    "a = int(input(\"Enter first number: \"))\n",
    "b = int(input(\"Enter second number: \"))\n",
    "if a == b:\n",
    "    a, b = 0, 0\n",
    "else:\n",
    "    a, b = a+b, a+b\n",
    "print(\"Result: \", a, b)"
   ]
  },
  {
   "cell_type": "markdown",
   "metadata": {},
   "source": [
    "Завдання 3   \n",
    "    Дано три цілих числа. Знайти суму двох найбільших із них."
   ]
  },
  {
   "cell_type": "code",
   "execution_count": 10,
   "metadata": {},
   "outputs": [
    {
     "name": "stdout",
     "output_type": "stream",
     "text": [
      "Enter first number: 1\n",
      "Enter second number: 2\n",
      "Enter third number: 3\n",
      "b+c= 5\n"
     ]
    }
   ],
   "source": [
    "a = int(input(\"Enter first number: \"))\n",
    "b = int(input(\"Enter second number: \"))\n",
    "c = int(input(\"Enter third number: \"))\n",
    "\n",
    "if a>b and a>c:\n",
    "    if b>c:\n",
    "        print('a+b=',a+b)\n",
    "    else:\n",
    "        print('a+c=', a+c)\n",
    "elif b>a and b>c:\n",
    "    if a>c:\n",
    "        print('a+b=', a+b)\n",
    "    else:\n",
    "        print('c+b', c+b)\n",
    "else:\n",
    "    if a>b:\n",
    "        print('a+c=', a+c)\n",
    "    else:\n",
    "        print('b+c=',b+c)"
   ]
  },
  {
   "cell_type": "markdown",
   "metadata": {},
   "source": [
    "Завдання 4   \n",
    "    Дана стрічка. Якщо в цій стрічці відсутня буква \"a\", вивести \"False\".   \n",
    "    Якщо буква зустрічається один раз - вивести її індекс.   \n",
    "    Якщо більше одного разу - вивести індекс першого та останнього входження."
   ]
  },
  {
   "cell_type": "code",
   "execution_count": 11,
   "metadata": {},
   "outputs": [
    {
     "name": "stdout",
     "output_type": "stream",
     "text": [
      "Enter string: ahuhefa\n",
      "0 6\n"
     ]
    }
   ],
   "source": [
    "s = input(\"Enter string: \")\n",
    "if 'a' not in s:\n",
    "    print(False)\n",
    "elif s.count('a')==1:\n",
    "    print(s.find['a'])\n",
    "elif s.count('a')>1:\n",
    "    print(s.find('a'), s.rfind('a'))"
   ]
  },
  {
   "cell_type": "markdown",
   "metadata": {},
   "source": [
    "Завдання 5   \n",
    "    Дано одне число Price - ціна на 1 кг апельсин.    \n",
    "    Вивести вартість 1, 2, ... , 10 кг апельсин.   \n",
    "    (Спробуйте вирішити задачу двома способами: циклом FOR та циклом WHILE)"
   ]
  },
  {
   "cell_type": "code",
   "execution_count": 14,
   "metadata": {},
   "outputs": [
    {
     "name": "stdout",
     "output_type": "stream",
     "text": [
      "Enter price of oranges: 3\n",
      "1 kg of oranges cost 3.0\n",
      "2 kg of oranges cost 6.0\n",
      "3 kg of oranges cost 9.0\n",
      "4 kg of oranges cost 12.0\n",
      "5 kg of oranges cost 15.0\n",
      "6 kg of oranges cost 18.0\n",
      "7 kg of oranges cost 21.0\n",
      "8 kg of oranges cost 24.0\n",
      "9 kg of oranges cost 27.0\n",
      "10 kg of oranges cost 30.0\n",
      "1 kg of oranges cost 3.0\n",
      "2 kg of oranges cost 6.0\n",
      "3 kg of oranges cost 9.0\n",
      "4 kg of oranges cost 12.0\n",
      "5 kg of oranges cost 15.0\n",
      "6 kg of oranges cost 18.0\n",
      "7 kg of oranges cost 21.0\n",
      "8 kg of oranges cost 24.0\n",
      "9 kg of oranges cost 27.0\n",
      "10 kg of oranges cost 30.0\n"
     ]
    }
   ],
   "source": [
    "price = float(input(\"Enter price of oranges: \"))\n",
    "\n",
    "# With for:\n",
    "for kg in range(1, 11):\n",
    "    print(kg, \"kg of oranges cost\", price*kg)\n",
    "\n",
    "#with while:\n",
    "kg = 1\n",
    "while kg<11:\n",
    "    print(kg, \"kg of oranges cost\", price*kg)\n",
    "    kg += 1"
   ]
  },
  {
   "cell_type": "markdown",
   "metadata": {},
   "source": [
    "Завдання 6   \n",
    "    Дано ціле число. Для цього числа виведіть сходинки.   \n",
    "    Наприклад, для числа 5 результат наступний:  \n",
    "    \\#  \n",
    "    \\#\\#  \n",
    "    \\#\\#\\#  \n",
    "    \\#\\#\\#\\#  \n",
    "    \\#\\#\\#\\#\\#  "
   ]
  },
  {
   "cell_type": "code",
   "execution_count": 16,
   "metadata": {},
   "outputs": [
    {
     "name": "stdout",
     "output_type": "stream",
     "text": [
      "Enter integer: 4\n",
      "#\n",
      "##\n",
      "###\n",
      "####\n"
     ]
    }
   ],
   "source": [
    "a = int(input(\"Enter integer: \"))\n",
    "\n",
    "for i in range(1, a+1):\n",
    "    print('#'*i)"
   ]
  },
  {
   "cell_type": "markdown",
   "metadata": {},
   "source": [
    "Завдання 7  \n",
    "    Виведіть суму всіх непарних чисел, що кратні 5, в діапазоні від 0 до 1000."
   ]
  },
  {
   "cell_type": "code",
   "execution_count": 17,
   "metadata": {},
   "outputs": [
    {
     "name": "stdout",
     "output_type": "stream",
     "text": [
      "5\n",
      "15\n",
      "25\n",
      "35\n",
      "45\n",
      "55\n",
      "65\n",
      "75\n",
      "85\n",
      "95\n",
      "105\n",
      "115\n",
      "125\n",
      "135\n",
      "145\n",
      "155\n",
      "165\n",
      "175\n",
      "185\n",
      "195\n",
      "205\n",
      "215\n",
      "225\n",
      "235\n",
      "245\n",
      "255\n",
      "265\n",
      "275\n",
      "285\n",
      "295\n",
      "305\n",
      "315\n",
      "325\n",
      "335\n",
      "345\n",
      "355\n",
      "365\n",
      "375\n",
      "385\n",
      "395\n",
      "405\n",
      "415\n",
      "425\n",
      "435\n",
      "445\n",
      "455\n",
      "465\n",
      "475\n",
      "485\n",
      "495\n",
      "505\n",
      "515\n",
      "525\n",
      "535\n",
      "545\n",
      "555\n",
      "565\n",
      "575\n",
      "585\n",
      "595\n",
      "605\n",
      "615\n",
      "625\n",
      "635\n",
      "645\n",
      "655\n",
      "665\n",
      "675\n",
      "685\n",
      "695\n",
      "705\n",
      "715\n",
      "725\n",
      "735\n",
      "745\n",
      "755\n",
      "765\n",
      "775\n",
      "785\n",
      "795\n",
      "805\n",
      "815\n",
      "825\n",
      "835\n",
      "845\n",
      "855\n",
      "865\n",
      "875\n",
      "885\n",
      "895\n",
      "905\n",
      "915\n",
      "925\n",
      "935\n",
      "945\n",
      "955\n",
      "965\n",
      "975\n",
      "985\n",
      "995\n"
     ]
    }
   ],
   "source": [
    "for i in range(1000):\n",
    "    if i%2!=0 and i%5==0:\n",
    "        print(i)"
   ]
  },
  {
   "cell_type": "markdown",
   "metadata": {},
   "source": [
    "Завдання 8\n",
    "    На карантині я розпочав бігові тренування. В перший день пробіг 500 метрів.\n",
    "    Кожний наступний день дистанцію збільшую на 10%. Відомо, що карантин триває 30 днів.\n",
    "    \n",
    "        - Яку дистанцію я пробіжу в останній день карантину?\n",
    "        \n",
    "        - Скільки днів потрібно бігати, щоб сумарна дистанція за всі дні \n",
    "            перевищила довжину марафону (42 км)?"
   ]
  },
  {
   "cell_type": "code",
   "execution_count": 25,
   "metadata": {},
   "outputs": [
    {
     "name": "stdout",
     "output_type": "stream",
     "text": [
      "Distance on final quarantine day:  8724.70113444322 m\n",
      "Days to exceed 42 km: 47\n"
     ]
    }
   ],
   "source": [
    "distance = 500\n",
    "for i in range(30):\n",
    "    distance = distance * 1.1\n",
    "print(\"Distance on final quarantine day: \", distance, \"m\")\n",
    "\n",
    "distance2 = 500\n",
    "counter = 0\n",
    "while distance2<=42000:\n",
    "    counter += 1\n",
    "    distance2 = distance2 * 1.1\n",
    "print(\"Days to exceed 42 km:\", counter)"
   ]
  },
  {
   "cell_type": "markdown",
   "metadata": {},
   "source": [
    "Завдання 9 \n",
    "    Виведіть добуток всіх цілих чисел для послідовності -23, -22, -21, -20, ..., 8, 9, 10, 11, 12"
   ]
  },
  {
   "cell_type": "code",
   "execution_count": 27,
   "metadata": {},
   "outputs": [
    {
     "name": "stdout",
     "output_type": "stream",
     "text": [
      "-12383157381152686026522624000000\n"
     ]
    }
   ],
   "source": [
    "counter=1\n",
    "for i in range(-23, 13):\n",
    "    if i == 0:\n",
    "        continue\n",
    "    else:\n",
    "        counter = counter*i \n",
    "print(counter)"
   ]
  },
  {
   "cell_type": "markdown",
   "metadata": {},
   "source": [
    "Завдання 11*\n",
    "    Перевірити, чи натуральне число N є просте.\n",
    "        (Число називається просте - якщо кількість його дільників становить два:\n",
    "        одиниця і саме число)"
   ]
  },
  {
   "cell_type": "code",
   "execution_count": 34,
   "metadata": {},
   "outputs": [
    {
     "name": "stdout",
     "output_type": "stream",
     "text": [
      "Enter number: 29\n",
      "Number is prime\n"
     ]
    }
   ],
   "source": [
    "a = int(input(\"Enter number: \"))\n",
    "if a == 0:\n",
    "    print(\"Enter another number!\")\n",
    "for i in range(2, a):\n",
    "    if a%i==0:\n",
    "        print(\"Number is not prime\")\n",
    "        break\n",
    "    if i == a-1:\n",
    "        print(\"Number is prime\")\n",
    "        "
   ]
  }
 ],
 "metadata": {
  "kernelspec": {
   "display_name": "Python 3",
   "language": "python",
   "name": "python3"
  },
  "language_info": {
   "codemirror_mode": {
    "name": "ipython",
    "version": 3
   },
   "file_extension": ".py",
   "mimetype": "text/x-python",
   "name": "python",
   "nbconvert_exporter": "python",
   "pygments_lexer": "ipython3",
   "version": "3.7.6"
  }
 },
 "nbformat": 4,
 "nbformat_minor": 4
}
