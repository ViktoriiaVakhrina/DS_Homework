{
 "cells": [
  {
   "cell_type": "markdown",
   "metadata": {},
   "source": [
    "### Завдання 1:\n",
    "1. Підключитися до API Національного банку.\n",
    "2. Отримати курс доллара за останній рік.\n",
    "3. Вивести середнє значення та відхилення курсу за кожен місяць.\n",
    "4. Дану інформацію записати у файл за допомогою pickle\n",
    "\n"
   ]
  },
  {
   "cell_type": "code",
   "execution_count": 29,
   "metadata": {},
   "outputs": [
    {
     "name": "stdout",
     "output_type": "stream",
     "text": [
      "Дані успішно збережено!\n"
     ]
    }
   ],
   "source": [
    "# 1. Підключення до API:\n",
    "\n",
    "\n",
    "import requests\n",
    "\n",
    "\n",
    "\n",
    "#отримуємо json з курсом долара на сьогодні\n",
    "r = requests.get('https://bank.gov.ua/NBUStatService/v1/statdirectory/exchange?valcode=USD&date=20200302&json').json()\n",
    "print(r)"
   ]
  },
  {
   "cell_type": "code",
   "execution_count": null,
   "metadata": {},
   "outputs": [],
   "source": [
    "#2. Отримати курс доллара за останній рік.\n",
    "\n",
    "import datetime\n",
    "\n",
    "# Для отримання курсу за рік необхідно повторювати запит r змінюючи дати\n",
    "\n",
    "\n",
    "current_date = datetime.date.today()\n",
    "\n",
    "rates = {} # словник, де зберігатимуться дата(ключ) та курс на дату(значення)\n",
    "for i in range(0, 366):\n",
    "    other_date=current_date-datetime.timedelta(i) #Віднімаємо від 1 до 365 дів від поточної дати для отримання курсу за рік\n",
    "    params={'date':other_date.strftime('%Y%m%d')}\n",
    "    \n",
    "    # робимо запит з параметром 'дата'\n",
    "    r=requests.get('https://bank.gov.ua/NBUStatService/v1/statdirectory/exchange?valcode=USD&json', params).json()\n",
    "    \n",
    "    # записуємо дані у словник\n",
    "    rates[other_date] = r[0]['rate']\n",
    "print('Дані успішно збережено!')"
   ]
  },
  {
   "cell_type": "code",
   "execution_count": 43,
   "metadata": {},
   "outputs": [
    {
     "name": "stdout",
     "output_type": "stream",
     "text": [
      "Середнє значення курсу за місяцями:\n",
      "(1, 24.119351612903227)\n",
      "(2, 24.596524137931034)\n",
      "(3, 26.412293548387098)\n",
      "(4, 27.224653333333332)\n",
      "(5, 26.814329032258065)\n",
      "(6, 26.707343333333334)\n",
      "(7, 27.31283870967742)\n",
      "(8, 27.52141935483871)\n",
      "(9, 27.97671666666667)\n",
      "(10, 28.324951612903227)\n",
      "(11, 28.310153333333332)\n",
      "(12, 27.238301290322582)\n",
      "\n",
      "Середньоквадратичне відхилення курсу за місяцями:\n",
      "(1, 0.371551844629134)\n",
      "(2, 0.1876579670859657)\n",
      "(3, 1.4218997507877702)\n",
      "(4, 0.20976090121412252)\n",
      "(5, 0.13470483335438327)\n",
      "(6, 0.07284717438646436)\n",
      "(7, 0.3642097762530265)\n",
      "(8, 0.14819453525541967)\n",
      "(9, 0.2409137677795668)\n",
      "(10, 0.055517948274816174)\n",
      "(11, 0.1508870820853458)\n",
      "(12, 1.8535268620767134)\n"
     ]
    }
   ],
   "source": [
    "# 3. Вивести середнє значення та відхилення курсу за кожен місяць.\n",
    "\n",
    "import statistics\n",
    "\n",
    "mean_rates={}       # словник для зберігання середніх значень курсу; ключ - № місяця\n",
    "stand_deviation = {} # словник для зберігання відхилення; ключ - № місяця\n",
    "\n",
    "for m in range (1,13):\n",
    "    rates_per_month=[rates[i] for i in rates.keys() if i.month==m] # створюємо список значень курсу за 1 місяць\n",
    "    mean_rates[m]=statistics.mean(rates_per_month)   # знаходимо середнє значення за поточний місяць і записуємо у словник\n",
    "    stand_deviation[m]=statistics.stdev(rates_per_month) # знаходимо відхилення за поточний місяць і записуємо у словник\n",
    "\n",
    "print('Середнє значення курсу за місяцями:')\n",
    "for el in mean_rates.items():\n",
    "    print(el)\n",
    "    \n",
    "print()\n",
    "print('Середньоквадратичне відхилення курсу за місяцями:')\n",
    "for el in stand_deviation.items():\n",
    "    print(el)\n"
   ]
  },
  {
   "cell_type": "code",
   "execution_count": 44,
   "metadata": {},
   "outputs": [],
   "source": [
    "# 4. Дану інформацію записати у файл за допомогою pickle\n",
    "\n",
    "import pickle\n",
    "\n",
    "\n",
    "with open('rates.pickle', 'wb') as f:   # pickle працює в бінарному режимі\n",
    "    pickle.dump(rates, f)\n",
    "    pickle.dump(mean_rates, f)\n",
    "    pickle.dump(stand_deviation, f)"
   ]
  },
  {
   "cell_type": "code",
   "execution_count": 50,
   "metadata": {},
   "outputs": [
    {
     "name": "stdout",
     "output_type": "stream",
     "text": [
      "366\n",
      "Середні значення: {1: 24.119351612903227, 2: 24.596524137931034, 3: 26.412293548387098, 4: 27.224653333333332, 5: 26.814329032258065, 6: 26.707343333333334, 7: 27.31283870967742, 8: 27.52141935483871, 9: 27.97671666666667, 10: 28.324951612903227, 11: 28.310153333333332, 12: 27.238301290322582}\n",
      "Відхилення: {1: 0.371551844629134, 2: 0.1876579670859657, 3: 1.4218997507877702, 4: 0.20976090121412252, 5: 0.13470483335438327, 6: 0.07284717438646436, 7: 0.3642097762530265, 8: 0.14819453525541967, 9: 0.2409137677795668, 10: 0.055517948274816174, 11: 0.1508870820853458, 12: 1.8535268620767134}\n"
     ]
    }
   ],
   "source": [
    "# Перевіряємо записаний файл:\n",
    "\n",
    "with open('rates.pickle', 'rb') as f:\n",
    "    rates_from_file = pickle.load(f)\n",
    "    mean_from_file = pickle.load(f)\n",
    "    stand_dev_from_file=pickle.load(f)\n",
    "print(len(rates_from_file))\n",
    "print('Середні значення:', mean_from_file)\n",
    "print('Відхилення:', stand_dev_from_file)"
   ]
  },
  {
   "cell_type": "markdown",
   "metadata": {},
   "source": [
    "### Завдання 2\n",
    "\n",
    "Ознайомитись з сайтом новин науки http://unian.ua/science   \n",
    "   \n",
    "1. За допомогою бібліотеки bs4 отримати 10 новин з блоку \"Всі новини науки і техніки\".\n",
    "2. Завантажити дату новини, назву та посилання.\n",
    "3. Інформацію зберегти у файл формату json\n"
   ]
  },
  {
   "cell_type": "code",
   "execution_count": 110,
   "metadata": {},
   "outputs": [],
   "source": [
    "# 1. За допомогою бібліотеки bs4 отримати 10 новин з блоку \"Всі новини науки і техніки\".\n",
    "\n",
    "import requests\n",
    "from bs4 import BeautifulSoup\n",
    "\n",
    "\n",
    "r = requests.get('https://www.unian.ua/science')\n",
    "\n",
    "soup = BeautifulSoup(r.text, 'html.parser')\n",
    "\n",
    "\n",
    "list_of_news = soup.find_all('div',class_='list-thumbs__info')[0:10]\n",
    "\n"
   ]
  },
  {
   "cell_type": "code",
   "execution_count": 131,
   "metadata": {},
   "outputs": [
    {
     "name": "stdout",
     "output_type": "stream",
     "text": [
      "(1, {'href': 'https://www.unian.ua/science/mihaylo-fedorov-prezentuvav-100-peremog-mincifri-za-2020-rik-ta-anonsuvav-masshtabni-nacionalni-proekti-novini-11267777.html', 'title': 'Михайло Федоров презентував 100 перемог Мінцифри за 2020 рік та анонсував масштабні національні проекти', 'date': '25/12/2020'})\n",
      "\n",
      "(2, {'href': 'https://www.unian.net/games/10-glavnyh-igrovyh-sobytiy-desyatiletiya-igry-11267117.html', 'title': 'Від перемоги NAVI до угод на $7,5 мільярдів – 10 головних ігрових подій десятиріччя', 'date': '25/12/2020'})\n",
      "\n",
      "(3, {'href': 'https://www.unian.ua/science/fahivci-z-kiberbezpeki-rozpovili-yak-bezpechno-zustriti-noviy-rik-novini-11267489.html', 'title': 'Фахівці з кібербезпеки розповіли, як безпечно зустріти Новий Рік', 'date': '24/12/2020'})\n",
      "\n",
      "(4, {'href': 'https://www.unian.ua/games/geymeram-daruyut-inside-gru-shcho-stala-laureatom-premiji-bafta-igri-11267333.html', 'title': 'Геймерам дарують гру, що стала лауреатом премії BAFTA', 'date': '24/12/2020'})\n",
      "\n",
      "(5, {'href': 'https://www.unian.ua/games/rolova-gra-pro-seksualnogo-androjida-prodalasya-tirazhem-v-5-mln-kopiy-igri-11267198.html', 'title': 'Рольова гра NieR: Automata розійшлася тиражем в 5 мільйонів копій', 'date': '24/12/2020'})\n",
      "\n",
      "(6, {'href': 'https://www.unian.ua/world/stezhennya-v-interneti-dani-z-internetu-y-realnist-yak-nikoli-splelisya-yak-sebe-zahistiti-novini-svitu-11267024.html', 'title': 'Foreign Policy: Стежити за людьми в інтернеті стало надто легко, як себе захистити?', 'date': '24/12/2020'})\n",
      "\n",
      "(7, {'href': 'https://www.unian.ua/science/starship-rozbivsya-pri-posadci-spacex-pokazala-povne-video-novini-11266898.html', 'title': 'SpaceX показала повний запис, як корабель Starship вибухнув при посадці (фото, відео)', 'date': '24/12/2020'})\n",
      "\n",
      "(8, {'href': 'https://www.unian.ua/games/cyberpunk-2077-rozrobniki-vipravili-kritichnu-pomilku-gri-na-pk-igri-11266565.html', 'title': 'Студія CD Projekt виправила критичну помилку в Cyberpunk 2077', 'date': '24/12/2020'})\n",
      "\n",
      "(9, {'href': 'https://www.unian.ua/games/epic-games-store-pochalasya-rozdacha-simulyatora-diktatora-tropico-5-igri-11266148.html', 'title': 'В Epic Games Store віддають безкоштовно симулятор диктатора Tropico 5', 'date': '23/12/2020'})\n",
      "\n",
      "(10, {'href': 'https://www.unian.ua/science/trendi-lokdaunu-2021-inter-yerni-kinoteatri-ta-simulyatori-pochuttiv-novini-11265716.html', 'title': \"Тренди локдауну-2021: інтер'єрні кінотеатри та симулятори почуттів\", 'date': '23/12/2020'})\n",
      "\n"
     ]
    }
   ],
   "source": [
    "# 2. Завантажити дату новини, назву та посилання.\n",
    "\n",
    "import datetime\n",
    "import locale\n",
    "\n",
    "\n",
    "locale.setlocale(locale.LC_TIME, \"uk_UA\")   # встановлюємо локацію для коректної обробки дати\n",
    "\n",
    "\n",
    "news_info = {} # словник з посиланням, датою та назвою новини\n",
    "\n",
    "i = 1  # ключ у словнику з новинами\n",
    "\n",
    "for el in list_of_news:\n",
    "    href = el.a['href']                                # отримуємо посилання\n",
    "    \n",
    "    title = (el.a.text.strip('\\n'))                    # отримуємо назву, обрізаємо \\n з обох сторін\n",
    "    title = title.strip()                              # з назви обрізаємо зайві пробіли\n",
    "    \n",
    "    news_date_time = datetime.datetime.strptime(el.div.text, '%H:%M, %d %B %Y') #отримуємо дату та час новини\n",
    "    news_date = datetime.datetime.strftime(news_date_time.date(), '%d/%m/%Y')\n",
    "    # записуємо дані у словник з елементами - словниками з відповідними ключами\n",
    "    news_info[i]={'href':href, 'title':title, 'date':news_date}  \n",
    "    i += 1\n",
    "\n",
    "for el in news_info.items():\n",
    "    print(el)\n",
    "    print()"
   ]
  },
  {
   "cell_type": "code",
   "execution_count": 143,
   "metadata": {},
   "outputs": [],
   "source": [
    "# 3. Інформацію зберегти у файл формату json\n",
    "\n",
    "\n",
    "import json\n",
    "\n",
    "with open('10_science_news.json', 'w') as f:\n",
    "    f.write(json.dumps(news_info, ensure_ascii=False))\n"
   ]
  },
  {
   "cell_type": "code",
   "execution_count": 144,
   "metadata": {},
   "outputs": [
    {
     "data": {
      "text/plain": [
       "['{\"1\": {\"href\": \"https://www.unian.ua/science/mihaylo-fedorov-prezentuvav-100-peremog-mincifri-za-2020-rik-ta-anonsuvav-masshtabni-nacionalni-proekti-novini-11267777.html\", \"title\": \"Михайло Федоров презентував 100 перемог Мінцифри за 2020 рік та анонсував масштабні національні проекти\", \"date\": \"25/12/2020\"}, \"2\": {\"href\": \"https://www.unian.net/games/10-glavnyh-igrovyh-sobytiy-desyatiletiya-igry-11267117.html\", \"title\": \"Від перемоги NAVI до угод на $7,5 мільярдів – 10 головних ігрових подій десятиріччя\", \"date\": \"25/12/2020\"}, \"3\": {\"href\": \"https://www.unian.ua/science/fahivci-z-kiberbezpeki-rozpovili-yak-bezpechno-zustriti-noviy-rik-novini-11267489.html\", \"title\": \"Фахівці з кібербезпеки розповіли, як безпечно зустріти Новий Рік\", \"date\": \"24/12/2020\"}, \"4\": {\"href\": \"https://www.unian.ua/games/geymeram-daruyut-inside-gru-shcho-stala-laureatom-premiji-bafta-igri-11267333.html\", \"title\": \"Геймерам дарують гру, що стала лауреатом премії BAFTA\", \"date\": \"24/12/2020\"}, \"5\": {\"href\": \"https://www.unian.ua/games/rolova-gra-pro-seksualnogo-androjida-prodalasya-tirazhem-v-5-mln-kopiy-igri-11267198.html\", \"title\": \"Рольова гра NieR: Automata розійшлася тиражем в 5 мільйонів копій\", \"date\": \"24/12/2020\"}, \"6\": {\"href\": \"https://www.unian.ua/world/stezhennya-v-interneti-dani-z-internetu-y-realnist-yak-nikoli-splelisya-yak-sebe-zahistiti-novini-svitu-11267024.html\", \"title\": \"Foreign Policy: Стежити за людьми в інтернеті стало надто легко, як себе захистити?\", \"date\": \"24/12/2020\"}, \"7\": {\"href\": \"https://www.unian.ua/science/starship-rozbivsya-pri-posadci-spacex-pokazala-povne-video-novini-11266898.html\", \"title\": \"SpaceX показала повний запис, як корабель Starship вибухнув при посадці (фото, відео)\", \"date\": \"24/12/2020\"}, \"8\": {\"href\": \"https://www.unian.ua/games/cyberpunk-2077-rozrobniki-vipravili-kritichnu-pomilku-gri-na-pk-igri-11266565.html\", \"title\": \"Студія CD Projekt виправила критичну помилку в Cyberpunk 2077\", \"date\": \"24/12/2020\"}, \"9\": {\"href\": \"https://www.unian.ua/games/epic-games-store-pochalasya-rozdacha-simulyatora-diktatora-tropico-5-igri-11266148.html\", \"title\": \"В Epic Games Store віддають безкоштовно симулятор диктатора Tropico 5\", \"date\": \"23/12/2020\"}, \"10\": {\"href\": \"https://www.unian.ua/science/trendi-lokdaunu-2021-inter-yerni-kinoteatri-ta-simulyatori-pochuttiv-novini-11265716.html\", \"title\": \"Тренди локдауну-2021: інтер\\'єрні кінотеатри та симулятори почуттів\", \"date\": \"23/12/2020\"}}']"
      ]
     },
     "execution_count": 144,
     "metadata": {},
     "output_type": "execute_result"
    }
   ],
   "source": [
    "#Перевіряємо створений файл\n",
    "\n",
    "with open('10_science_news.json', 'r') as f:\n",
    "    x = f.readlines()\n",
    "x"
   ]
  },
  {
   "cell_type": "code",
   "execution_count": null,
   "metadata": {},
   "outputs": [],
   "source": []
  }
 ],
 "metadata": {
  "kernelspec": {
   "display_name": "Python 3",
   "language": "python",
   "name": "python3"
  },
  "language_info": {
   "codemirror_mode": {
    "name": "ipython",
    "version": 3
   },
   "file_extension": ".py",
   "mimetype": "text/x-python",
   "name": "python",
   "nbconvert_exporter": "python",
   "pygments_lexer": "ipython3",
   "version": "3.7.6"
  }
 },
 "nbformat": 4,
 "nbformat_minor": 4
}
