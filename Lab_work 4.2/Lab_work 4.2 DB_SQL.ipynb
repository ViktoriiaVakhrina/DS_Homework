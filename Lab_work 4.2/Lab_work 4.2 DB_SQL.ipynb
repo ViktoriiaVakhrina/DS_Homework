{
 "cells": [
  {
   "cell_type": "code",
   "execution_count": 44,
   "metadata": {},
   "outputs": [],
   "source": [
    "import sqlite3\n",
    "\n",
    "def execute_req(sql_text, *args):\n",
    "    conn = sqlite3.connect('tysql.sqlite')\n",
    "    curs = conn.cursor()\n",
    "    result = curs.execute(sql_text,(*args,)).fetchall()\n",
    "    conn.close()\n",
    "    return result\n",
    "\n",
    "def execute_with_print(sql_text):\n",
    "    r = execute_req(sql_text)\n",
    "    for row in r:\n",
    "        print(row)"
   ]
  },
  {
   "cell_type": "code",
   "execution_count": 45,
   "metadata": {},
   "outputs": [
    {
     "name": "stdout",
     "output_type": "stream",
     "text": [
      "Таблиці у БД:\n",
      "Customers\n",
      "OrderItems\n",
      "Orders\n",
      "Products\n",
      "Vendors\n"
     ]
    }
   ],
   "source": [
    "# List all tables in db\n",
    "\n",
    "all_tables = execute_req('SELECT name from sqlite_master where type= \"table\"')\n",
    "all_tables = [t[0] for t in all_tables]\n",
    "print('Таблиці у БД:')\n",
    "for t in all_tables:\n",
    "    print(t)"
   ]
  },
  {
   "cell_type": "code",
   "execution_count": 46,
   "metadata": {},
   "outputs": [
    {
     "name": "stdout",
     "output_type": "stream",
     "text": [
      "Інформація про поля таблиць:\n",
      "\n",
      "#, name, value_type, is_nullable, column_default, foreign key\n",
      "\n",
      "Customers\n",
      "(0, 'cust_id', 'char(10)', 1, None, 1)\n",
      "(1, 'cust_name', 'char(50)', 1, None, 0)\n",
      "(2, 'cust_address', 'char(50)', 0, None, 0)\n",
      "(3, 'cust_city', 'char(50)', 0, None, 0)\n",
      "(4, 'cust_state', 'char(5)', 0, None, 0)\n",
      "(5, 'cust_zip', 'char(10)', 0, None, 0)\n",
      "(6, 'cust_country', 'char(50)', 0, None, 0)\n",
      "(7, 'cust_contact', 'char(50)', 0, None, 0)\n",
      "(8, 'cust_email', 'char(255)', 0, None, 0)\n",
      "\n",
      "OrderItems\n",
      "(0, 'order_num', 'int', 1, None, 1)\n",
      "(1, 'order_item', 'int', 1, None, 2)\n",
      "(2, 'prod_id', 'char(10)', 1, None, 0)\n",
      "(3, 'quantity', 'int', 1, None, 0)\n",
      "(4, 'item_price', 'decimal(8,2)', 1, None, 0)\n",
      "\n",
      "Orders\n",
      "(0, 'order_num', 'int', 1, None, 1)\n",
      "(1, 'order_date', 'datetime', 1, None, 0)\n",
      "(2, 'cust_id', 'char(10)', 1, None, 0)\n",
      "\n",
      "Products\n",
      "(0, 'prod_id', 'char(10)', 1, None, 1)\n",
      "(1, 'vend_id', 'char(10)', 1, None, 0)\n",
      "(2, 'prod_name', 'char(255)', 1, None, 0)\n",
      "(3, 'prod_price', 'decimal(8,2)', 1, None, 0)\n",
      "(4, 'prod_desc', 'text', 0, None, 0)\n",
      "\n",
      "Vendors\n",
      "(0, 'vend_id', 'char(10)', 1, None, 1)\n",
      "(1, 'vend_name', 'char(50)', 1, None, 0)\n",
      "(2, 'vend_address', 'char(50)', 0, None, 0)\n",
      "(3, 'vend_city', 'char(50)', 0, None, 0)\n",
      "(4, 'vend_state', 'char(5)', 0, None, 0)\n",
      "(5, 'vend_zip', 'char(10)', 0, None, 0)\n",
      "(6, 'vend_country', 'char(50)', 0, None, 0)\n",
      "\n"
     ]
    }
   ],
   "source": [
    "# List all columns and their properties\n",
    "\n",
    "print('Інформація про поля таблиць:\\n')\n",
    "print('#, name, value_type, is_nullable, column_default, foreign key\\n')\n",
    "for t in all_tables:\n",
    "    print(t)\n",
    "    sql_text = \"PRAGMA table_info (%s)\" %t\n",
    "    execute_with_print(sql_text)\n",
    "    print()\n",
    "\n"
   ]
  },
  {
   "cell_type": "code",
   "execution_count": 62,
   "metadata": {},
   "outputs": [
    {
     "name": "stdout",
     "output_type": "stream",
     "text": [
      "Customers\n",
      "PRIMARY KEY (cust_id)\n",
      "\n",
      "OrderItems\n",
      "PRIMARY KEY (order_num, order_item)                   ,\n",
      "  FOREIGN KEY (order_num) REFERENCES Orders (order_num) ,\n",
      "  FOREIGN KEY (prod_id) REFERENCES Products (prod_id)\n",
      "\n",
      "Orders\n",
      "PRIMARY KEY (order_num)      ,\n",
      "  FOREIGN KEY (cust_id) REFERENCES Customers (cust_id)\n",
      "\n",
      "Products\n",
      "PRIMARY KEY (prod_id)             ,\n",
      "  FOREIGN KEY (vend_id) REFERENCES Vendors (vend_id)\n",
      "\n",
      "Vendors\n",
      "PRIMARY KEY (vend_id)\n",
      "\n"
     ]
    }
   ],
   "source": [
    "# Information about primary and foreign keys\n",
    "'''\n",
    "Даний запит поветрає CREATE statement, за яким було створено таблицю\n",
    "tbl_name = назва таблиці\n",
    "'''\n",
    "sql_text=\"\"\"SELECT sql FROM sqlite_master\n",
    "    WHERE tbl_name = ? AND type = 'table'\"\"\"\n",
    "\n",
    "for t in all_tables:\n",
    "    '''\n",
    "    #після create_statement = execute_req(sql_text, t,)[0][0] отримуємо список з 1 елементом, який є кортежем\n",
    "    щоб дістатися до стрічки у кортежі звертаємось до елемента [0][0]\n",
    "    '''\n",
    "    create_statement = execute_req(sql_text, t,)[0][0]  \n",
    "    \n",
    "    \n",
    "    '''\n",
    "    Шукаємо у CREATE statement 'PRIMARY KEY'. Якщо у таблиці є FOREIGN KEY, це буде вказано після PRIMARY KEY \n",
    "    '''\n",
    "    pk = create_statement[create_statement.find('PRIMARY KEY'):].rstrip(',\\n)')+')' \n",
    "    print(t+'\\n'+ pk+'\\n')\n",
    "\n",
    "\n"
   ]
  },
  {
   "cell_type": "code",
   "execution_count": 68,
   "metadata": {},
   "outputs": [
    {
     "name": "stdout",
     "output_type": "stream",
     "text": [
      "Customer ids from Customers\n",
      "\n",
      "('1000000001',)\n",
      "('1000000002',)\n",
      "('1000000003',)\n",
      "('1000000004',)\n",
      "('1000000005',)\n"
     ]
    }
   ],
   "source": [
    "# Список всіх cust_id з Customers:\n",
    "sql_text_1 = \"\"\"\n",
    "SELECT cust_id\n",
    "FROM Customers\n",
    "\"\"\"\n",
    "print('Customer ids from Customers\\n')\n",
    "execute_with_print(sql_text_1)"
   ]
  },
  {
   "cell_type": "code",
   "execution_count": 67,
   "metadata": {},
   "outputs": [
    {
     "name": "stdout",
     "output_type": "stream",
     "text": [
      "All Customers table:\n",
      "\n",
      "('1000000001', 'Village Toys', '200 Maple Lane', 'Detroit', 'MI', '44444', 'USA', 'John Smith', 'sales@villagetoys.com')\n",
      "('1000000002', 'Kids Place', '333 South Lake Drive', 'Columbus', 'OH', '43333', 'USA', 'Michelle Green', None)\n",
      "('1000000003', 'Fun4All', '1 Sunny Place', 'Muncie', 'IN', '42222', 'USA', 'Jim Jones', 'jjones@fun4all.com')\n",
      "('1000000004', 'Fun4All', '829 Riverside Drive', 'Phoenix', 'AZ', '88888', 'USA', 'Denise L. Stephens', 'dstephens@fun4all.com')\n",
      "('1000000005', 'The Toy Store', '4545 53rd Street', 'Chicago', 'IL', '54545', 'USA', 'Kim Howard', None)\n"
     ]
    }
   ],
   "source": [
    "# Вся таблиця Customer Table:\n",
    "\n",
    "sql_text_2 = \"\"\"\n",
    "SELECT *\n",
    "FROM Customers\n",
    "\"\"\"\n",
    "print('All Customers table:\\n')\n",
    "\n",
    "execute_with_print(sql_text_2)\n"
   ]
  },
  {
   "cell_type": "code",
   "execution_count": 70,
   "metadata": {},
   "outputs": [
    {
     "name": "stdout",
     "output_type": "stream",
     "text": [
      "Cust_name відсортовані від Z до A\n",
      "\n",
      "('Village Toys',)\n",
      "('The Toy Store',)\n",
      "('Kids Place',)\n",
      "('Fun4All',)\n",
      "('Fun4All',)\n"
     ]
    }
   ],
   "source": [
    "# Список клієнтів (cust_name) відсортованих від Z до A:\n",
    "\n",
    "sql_text_3 = \"\"\"\n",
    "SELECT cust_name\n",
    "FROM Customers\n",
    "ORDER BY cust_name DESC\n",
    "\"\"\"\n",
    "print('Cust_name відсортовані від Z до A\\n')\n",
    "execute_with_print(sql_text_3)\n",
    "\n"
   ]
  },
  {
   "cell_type": "code",
   "execution_count": 71,
   "metadata": {},
   "outputs": [
    {
     "name": "stdout",
     "output_type": "stream",
     "text": [
      "# Таблиця клієнтів та замовлень (cust_id, order_num) відсортованих по клієнту та даті замовлення:\n",
      "\n",
      "('1000000001', 20009)\n",
      "('1000000001', 20005)\n",
      "('1000000003', 20006)\n",
      "('1000000004', 20007)\n",
      "('1000000005', 20008)\n"
     ]
    }
   ],
   "source": [
    "# Таблиця клієнтів та замовлень (cust_id, order_num) відсортованих по клієнту та даті замовлення:\n",
    "\n",
    "sql_text_4 = \"\"\"\n",
    "SELECT cust_id, order_num\n",
    "FROM Orders\n",
    "ORDER BY cust_id, order_date\n",
    "\"\"\"\n",
    "print('# Таблиця клієнтів та замовлень (cust_id, order_num) відсортованих по клієнту та даті замовлення:\\n')\n",
    "execute_with_print(sql_text_4)\n",
    "\n"
   ]
  },
  {
   "cell_type": "code",
   "execution_count": 76,
   "metadata": {},
   "outputs": [
    {
     "name": "stdout",
     "output_type": "stream",
     "text": [
      "Таблиця на основі Items з кількістю та вартістю товару. Відсортуйте в порядку спадання по кількості товару\n",
      "\n",
      "(250, 2.49)\n",
      "(250, 2.49)\n",
      "(250, 2.49)\n",
      "(100, 5.49)\n",
      "(100, 10.99)\n",
      "(100, 2.99)\n",
      "(100, 2.99)\n",
      "(100, 2.99)\n",
      "(50, 11.49)\n",
      "(50, 4.49)\n",
      "(20, 5.99)\n",
      "(10, 8.99)\n",
      "(10, 11.99)\n",
      "(10, 3.49)\n",
      "(10, 3.49)\n",
      "(10, 3.49)\n",
      "(5, 4.99)\n",
      "(5, 11.99)\n"
     ]
    }
   ],
   "source": [
    "# Таблиця на основі Items з кількістю та вартістю товару. Відсортуйте в порядку спадання по кількості товару\n",
    "\n",
    "sql_text_5 = \"\"\"\n",
    "SELECT quantity, item_price\n",
    "FROM OrderItems\n",
    "ORDER BY quantity DESC\n",
    "\"\"\"\n",
    "\n",
    "print('Таблиця на основі Items з кількістю та вартістю товару. Відсортуйте в порядку спадання по кількості товару\\n')\n",
    "execute_with_print(sql_text_5)"
   ]
  },
  {
   "cell_type": "code",
   "execution_count": 78,
   "metadata": {},
   "outputs": [
    {
     "name": "stdout",
     "output_type": "stream",
     "text": [
      "Товар з таблиці Products, ціна якого становить 9.49\n",
      "\n",
      "('King doll', 9.49)\n",
      "('Queen doll', 9.49)\n"
     ]
    }
   ],
   "source": [
    "# Товар з таблиці Products, ціна якого становить 9.49\n",
    "\n",
    "sql_text_6 = \"\"\"\n",
    "SELECT prod_name, prod_price\n",
    "FROM Products\n",
    "WHERE prod_price = 9.49\n",
    "\"\"\"\n",
    "print('Товар з таблиці Products, ціна якого становить 9.49\\n')\n",
    "execute_with_print(sql_text_6)"
   ]
  },
  {
   "cell_type": "code",
   "execution_count": 80,
   "metadata": {},
   "outputs": [
    {
     "name": "stdout",
     "output_type": "stream",
     "text": [
      "Назва товару, ціна якого в діапазоні від 3 до 6\n",
      "\n",
      "('Fish bean bag toy', 3.49)\n",
      "('Bird bean bag toy', 3.49)\n",
      "('Rabbit bean bag toy', 3.49)\n",
      "('Raggedy Ann', 4.99)\n",
      "('8 inch teddy bear', 5.99)\n"
     ]
    }
   ],
   "source": [
    "# Назва товару, ціна якого в діапазоні від 3 до 6. Відсортуйте по ціні в порядку зростання\n",
    "\n",
    "sql_text_7 = \"\"\"\n",
    "SELECT prod_name, prod_price\n",
    "FROM Products\n",
    "WHERE prod_price BETWEEN 3 AND 6\n",
    "ORDER BY prod_price \n",
    "\"\"\"\n",
    "print('Назва товару, ціна якого в діапазоні від 3 до 6\\n')\n",
    "execute_with_print(sql_text_7)"
   ]
  },
  {
   "cell_type": "code",
   "execution_count": 91,
   "metadata": {},
   "outputs": [
    {
     "name": "stdout",
     "output_type": "stream",
     "text": [
      "Кількість товару, що було продано\n",
      "\n",
      "('BNBG01', 360)\n",
      "('BNBG02', 360)\n",
      "('BNBG03', 360)\n",
      "('BR01', 120)\n",
      "('BR02', 10)\n",
      "('BR03', 165)\n",
      "('RGAN01', 55)\n",
      "('Всього продано: ', 1430)\n"
     ]
    }
   ],
   "source": [
    "# Кількість товару, що було продано\n",
    "sql_text_8 = \"\"\"\n",
    "SELECT prod_id, SUM(quantity)\n",
    "FROM OrderItems\n",
    "GROUP BY prod_id\n",
    "\n",
    "UNION\n",
    "\n",
    "SELECT 'Всього продано: ', SUM(quantity)\n",
    "FROM OrderItems\n",
    "\"\"\"\n",
    "print('Кількість товару, що було продано\\n')\n",
    "execute_with_print(sql_text_8)\n"
   ]
  },
  {
   "cell_type": "code",
   "execution_count": 90,
   "metadata": {},
   "outputs": [
    {
     "name": "stdout",
     "output_type": "stream",
     "text": [
      "Кількість найменувань товару, ціна якого > 4\n",
      "\n",
      "(6,)\n"
     ]
    }
   ],
   "source": [
    "# Кількість найменувань товару, ціна якого > 4\n",
    "sql_text_9 = \"\"\"\n",
    "SELECT count(prod_id) FROM Products\n",
    "WHERE prod_price > 4\n",
    "\"\"\"\n",
    "print('Кількість найменувань товару, ціна якого > 4\\n')\n",
    "execute_with_print(sql_text_9)"
   ]
  },
  {
   "cell_type": "code",
   "execution_count": 92,
   "metadata": {},
   "outputs": [
    {
     "name": "stdout",
     "output_type": "stream",
     "text": [
      "Кількість найменувань товару, ціна якого > 4\n",
      "\n",
      "('18 inch teddy bear', 11.99)\n",
      "('King doll', 9.49)\n",
      "('Queen doll', 9.49)\n"
     ]
    }
   ],
   "source": [
    "# 3 найдорожчі товари в базі\n",
    "sql_text_10 = \"\"\"\n",
    "SELECT prod_name, prod_price\n",
    "FROM Products\n",
    "ORDER BY prod_price DESC\n",
    "LIMIT 3\n",
    "\"\"\"\n",
    "print('Кількість найменувань товару, ціна якого > 4\\n')\n",
    "execute_with_print(sql_text_10_1)"
   ]
  },
  {
   "cell_type": "code",
   "execution_count": 140,
   "metadata": {},
   "outputs": [
    {
     "name": "stdout",
     "output_type": "stream",
     "text": [
      "Кількість замовлень для кожного клієнта (використовуючи підзапити)\n",
      "\n",
      "('1000000001', 2)\n",
      "('1000000003', 1)\n",
      "('1000000004', 1)\n",
      "('1000000005', 1)\n"
     ]
    }
   ],
   "source": [
    "# Кількість замовлень для кожного клієнта (використовуючи підзапити)\n",
    "sql_text_11 = \"\"\"\n",
    "SELECT cust_id AS c1, SUM(1)\n",
    "FROM (SELECT cust_id FROM Orders)\n",
    "GROUP BY cust_id\n",
    "\"\"\"\n",
    "print('Кількість замовлень для кожного клієнта (використовуючи підзапити)\\n')\n",
    "execute_with_print(sql_text_11)\n"
   ]
  },
  {
   "cell_type": "code",
   "execution_count": 141,
   "metadata": {},
   "outputs": [
    {
     "name": "stdout",
     "output_type": "stream",
     "text": [
      "Список клієнтів та їх замовлень (використовуючи JOIN)\n",
      "\n",
      "('Village Toys', 20005)\n",
      "('Fun4All', 20006)\n",
      "('Fun4All', 20007)\n",
      "('The Toy Store', 20008)\n",
      "('Village Toys', 20009)\n"
     ]
    }
   ],
   "source": [
    "# Список клієнтів та їх замовлень (використовуючи JOIN)\n",
    "sql_text_12 = \"\"\"\n",
    "SELECT cust_name, order_num\n",
    "FROM Orders\n",
    "JOIN Customers on Customers.cust_id=Orders.cust_id\n",
    "\"\"\"\n",
    "print('Список клієнтів та їх замовлень (використовуючи JOIN)\\n')\n",
    "execute_with_print(sql_text_12)"
   ]
  },
  {
   "cell_type": "code",
   "execution_count": 146,
   "metadata": {},
   "outputs": [
    {
     "name": "stdout",
     "output_type": "stream",
     "text": [
      "Список товарів, ціна яких < 5; список товарів, ціна яких >=5; використати UNION для об'єднання\n",
      "\n",
      "('12 inch teddy bear', 8.99)\n",
      "('18 inch teddy bear', 11.99)\n",
      "('8 inch teddy bear', 5.99)\n",
      "('Bird bean bag toy', 3.49)\n",
      "('Fish bean bag toy', 3.49)\n",
      "('King doll', 9.49)\n",
      "('Queen doll', 9.49)\n",
      "('Rabbit bean bag toy', 3.49)\n",
      "('Raggedy Ann', 4.99)\n"
     ]
    }
   ],
   "source": [
    "# Список товарів, ціна яких < 5; список товарів, ціна яких >=5; використати UNION для об'єднання\n",
    "sql_text_13 = \"\"\"\n",
    "SELECT prod_name, prod_price\n",
    "FROM Products\n",
    "WHERE prod_price < 5\n",
    "\n",
    "UNION\n",
    "\n",
    "SELECT prod_name, prod_price \n",
    "FROM Products\n",
    "WHERE prod_price >= 5\n",
    "\"\"\"\n",
    "print(\"Список товарів, ціна яких < 5; список товарів, ціна яких >=5; використати UNION для об'єднання\\n\")\n",
    "execute_with_print(sql_text_13)"
   ]
  },
  {
   "cell_type": "code",
   "execution_count": null,
   "metadata": {},
   "outputs": [],
   "source": []
  }
 ],
 "metadata": {
  "kernelspec": {
   "display_name": "Python 3",
   "language": "python",
   "name": "python3"
  },
  "language_info": {
   "codemirror_mode": {
    "name": "ipython",
    "version": 3
   },
   "file_extension": ".py",
   "mimetype": "text/x-python",
   "name": "python",
   "nbconvert_exporter": "python",
   "pygments_lexer": "ipython3",
   "version": "3.7.6"
  }
 },
 "nbformat": 4,
 "nbformat_minor": 4
}
