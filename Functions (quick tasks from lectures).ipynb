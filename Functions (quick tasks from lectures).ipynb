{
 "cells": [
  {
   "cell_type": "markdown",
   "metadata": {},
   "source": [
    "#### Завдання 1\n",
    " Дана послідовність чисел. Піднесіть всі елементи до квадрату та виведіть список"
   ]
  },
  {
   "cell_type": "code",
   "execution_count": 76,
   "metadata": {},
   "outputs": [
    {
     "name": "stdout",
     "output_type": "stream",
     "text": [
      "[5, 0, 5, 9, 0, 6, 10, 4, 4, 3, 4, 3, 7, 10, 4, 7, 7, 5, 10, 0]\n",
      "[25, 0, 25, 81, 0, 36, 100, 16, 16, 9, 16, 9, 49, 100, 16, 49, 49, 25, 100, 0] \n",
      "\n",
      "[25, 0, 25, 81, 0, 36, 100, 16, 16, 9, 16, 9, 49, 100, 16, 49, 49, 25, 100, 0] \n",
      "\n",
      "[25, 0, 25, 81, 0, 36, 100, 16, 16, 9, 16, 9, 49, 100, 16, 49, 49, 25, 100, 0] \n",
      "\n",
      "[25, 0, 25, 81, 0, 36, 100, 16, 16, 9, 16, 9, 49, 100, 16, 49, 49, 25, 100, 0] \n",
      "\n",
      "Порівняємо час роботи різних методів:\n",
      "7.77 µs ± 3.48 µs per loop (mean ± std. dev. of 7 runs, 100 loops each)\n",
      "5.68 µs ± 337 ns per loop (mean ± std. dev. of 7 runs, 100 loops each)\n",
      "6.56 µs ± 346 ns per loop (mean ± std. dev. of 7 runs, 100 loops each)\n",
      "7.75 µs ± 0 ns per loop (mean ± std. dev. of 1 run, 1 loop each)\n"
     ]
    }
   ],
   "source": [
    "# Завдання виконано з вимірюванням часу роботи кожного методу\n",
    "\n",
    "import random\n",
    "import time\n",
    "\n",
    "\n",
    "numbers = [random.randint(0, 10) for i in range(20)]\n",
    "\n",
    "def squared(n):\n",
    "    return n**2\n",
    "print('Згенерована послідовність:', numbers, '\\n')\n",
    "\n",
    "# Method 1: map function\n",
    "\n",
    "numbers_squared_map  = list(map(squared, numbers))\n",
    "print(numbers_squared_map, '\\n')\n",
    "\n",
    "\n",
    "# Method 2: list comprehension\n",
    "\n",
    "numbers_squared_list_compr = [n**2 for n in numbers]\n",
    "print(numbers_squared_list_compr, '\\n')\n",
    "\n",
    "\n",
    "# Method 3: lambda and map comprehension\n",
    "\n",
    "numbers_squared_lambda  = list(map((lambda n:n**2), numbers))\n",
    "print(numbers_squared_lambda, '\\n')\n",
    "\n",
    "\n",
    "#Method 4: cycle\n",
    "numbers_squared_cycle = []\n",
    "\n",
    "# для швидшої роботи застосуємо 1 повтор 1 раз для функції timeit\n",
    "\n",
    "for n in numbers: \n",
    "    numbers_squared_cycle.append(n**2) \n",
    "print(numbers_squared_cycle, '\\n')\n",
    "\n",
    "print('Порівняємо час роботи різних методів:')\n",
    "\n",
    "%timeit -n 100 numbers_squared_map  = list(map(squared, numbers))\n",
    "%timeit -n 100 numbers_squared_list_compr = [n**2 for n in numbers]\n",
    "%timeit -n 100 numbers_squared_lambda  = list(map((lambda n:n**2), numbers))\n",
    "numbers_squared_cycle = []\n",
    "\n",
    "# для коректної роботи застосуємо 1 повтор 1 раз для циклу\n",
    "%timeit -n 1 -r 1 for n in numbers: numbers_squared_cycle.append(n**2) \n"
   ]
  },
  {
   "cell_type": "markdown",
   "metadata": {},
   "source": [
    "### Завдання 2\n",
    "Напишіть функцію, що приймає координати двох точок та виводить відстань між ними"
   ]
  },
  {
   "cell_type": "code",
   "execution_count": 31,
   "metadata": {},
   "outputs": [
    {
     "name": "stdout",
     "output_type": "stream",
     "text": [
      "4.242640687119285\n"
     ]
    }
   ],
   "source": [
    "import math\n",
    "\n",
    "def distance_func(x1, y1, x2, y2):\n",
    "    distance = math.sqrt((x2-x1)**2+(y2-y1)**2)\n",
    "    return distance\n",
    "\n",
    "coords = (1,3,4,6)\n",
    "\n",
    "distance = distance_func(*coords)\n",
    "print(distance)"
   ]
  },
  {
   "cell_type": "markdown",
   "metadata": {},
   "source": [
    "### Завдання 3\n",
    "Дана послідовність натуральних чисел. Відфільтруйте та виведіть лише прості числа"
   ]
  },
  {
   "cell_type": "code",
   "execution_count": 136,
   "metadata": {},
   "outputs": [
    {
     "name": "stdout",
     "output_type": "stream",
     "text": [
      "[4, 1, 6, 1, 18, 8, 8, 5, 11, 19, 11, 7, 18, 18, 17, 4, 7, 3, 4, 11] \n",
      "\n",
      "filter function\n",
      "[1, 1, 5, 11, 19, 11, 7, 17, 7, 3, 11] \n",
      "\n",
      "list comprehension\n",
      "[1, 1, 5, 11, 19, 11, 7, 17, 7, 3, 11] \n",
      "\n"
     ]
    }
   ],
   "source": [
    "import random\n",
    "\n",
    "numbers = [random.randint(0, 20) for i in range(20)]\n",
    "print(numbers, '\\n')\n",
    "\n",
    "def is_prime(n):\n",
    "    '''\n",
    "    Функція, що визначає, чи є число n простим\n",
    "    Перевірятимемо дільники до sqrt(n)\n",
    "    \n",
    "    Аргументи:\n",
    "    n - тип int, n > 0\n",
    "    \n",
    "    Повертає:\n",
    "    True - якщо просте,\n",
    "    False - якщо n не є простим\n",
    "    '''\n",
    "    if n == 1 or n == 3:\n",
    "        return True\n",
    "    else:\n",
    "        for i in range(2, int(n**0.5)+1):\n",
    "            if n % i == 0:\n",
    "                return False\n",
    "            elif i == int(n**0.5):\n",
    "                return True\n",
    "\n",
    "            \n",
    "# Method 1: filter function\n",
    "\n",
    "prime_numbers_filter = list(filter(is_prime, numbers))\n",
    "print('filter function')\n",
    "print(prime_numbers_filter, '\\n')\n",
    "\n",
    "\n",
    "# Method 2: list comprehension\n",
    "\n",
    "prime_numbers_list_compr = [i for i in numbers if is_prime(i)]\n",
    "print('list comprehension')\n",
    "print(prime_numbers_list_compr, '\\n')"
   ]
  }
 ],
 "metadata": {
  "kernelspec": {
   "display_name": "Python 3",
   "language": "python",
   "name": "python3"
  },
  "language_info": {
   "codemirror_mode": {
    "name": "ipython",
    "version": 3
   },
   "file_extension": ".py",
   "mimetype": "text/x-python",
   "name": "python",
   "nbconvert_exporter": "python",
   "pygments_lexer": "ipython3",
   "version": "3.7.6"
  }
 },
 "nbformat": 4,
 "nbformat_minor": 4
}
